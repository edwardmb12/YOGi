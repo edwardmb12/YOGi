{
 "cells": [
  {
   "cell_type": "code",
   "execution_count": 1,
   "id": "c8e0b499",
   "metadata": {},
   "outputs": [],
   "source": [
    "import numpy as np\n",
    "import matplotlib.pyplot as mpl\n",
    "import os\n",
    "import pandas as pd\n",
    "import requests\n",
    "from PIL import Image"
   ]
  },
  {
   "cell_type": "markdown",
   "id": "ea93dd56",
   "metadata": {},
   "source": [
    "# Data Sourcing\n"
   ]
  },
  {
   "cell_type": "code",
   "execution_count": null,
   "id": "acddc08c",
   "metadata": {},
   "outputs": [],
   "source": [
    "os.getcwd()"
   ]
  },
  {
   "cell_type": "code",
   "execution_count": 2,
   "id": "0eedc7bc",
   "metadata": {},
   "outputs": [],
   "source": [
    "data_gate_pose = pd.read_table('Gate_Pose_or_Parighasana_.txt', header = 0, names = ['Labels', 'Links'])"
   ]
  },
  {
   "cell_type": "code",
   "execution_count": 3,
   "id": "7831b90a",
   "metadata": {},
   "outputs": [
    {
     "data": {
      "text/plain": [
       "(224, 2)"
      ]
     },
     "execution_count": 3,
     "metadata": {},
     "output_type": "execute_result"
    }
   ],
   "source": [
    "data_gate_pose.shape"
   ]
  },
  {
   "cell_type": "code",
   "execution_count": null,
   "id": "ca9bd4f1",
   "metadata": {},
   "outputs": [],
   "source": [
    "data_gate_pose[0:3]"
   ]
  },
  {
   "cell_type": "code",
   "execution_count": null,
   "id": "729681d5",
   "metadata": {},
   "outputs": [],
   "source": [
    "###\n",
    "def getdata(url): \n",
    "    r = requests.get(url) \n",
    "    return r.text \n",
    "    \n",
    "htmldata = getdata(data_gate_pose['Links'][1]) \n",
    "soup = BeautifulSoup(htmldata, 'html.parser') \n",
    "for item in soup.find_all('img'):\n",
    "    print(item['src'])\n",
    "###"
   ]
  },
  {
   "cell_type": "code",
   "execution_count": null,
   "id": "b4e59c82",
   "metadata": {},
   "outputs": [],
   "source": [
    "from PIL import Image\n",
    "img_url = 'http://img.youtube.com/vi/706LgCuuVcw/0.jpg'\n",
    "img = Image.open(requests.get(img_url, stream = True).raw)\n",
    "img.save('/home/moethukha/code/edwardmb12/YOGi/raw_data/Gate_Pose/0.jpg', 'JPEG')"
   ]
  },
  {
   "cell_type": "code",
   "execution_count": 5,
   "id": "75a9f80d",
   "metadata": {},
   "outputs": [],
   "source": [
    "directory = '/home/moethukha/code/edwardmb12/YOGi/raw_data/Gate_Pose/'"
   ]
  },
  {
   "cell_type": "code",
   "execution_count": 10,
   "id": "c688f154",
   "metadata": {},
   "outputs": [],
   "source": [
    "def web_fetch(img_url:str, n:int, directory:str):\n",
    "    #fetches image from url and saves in a directory. n int is more for the for loop below.\n",
    "    response = requests.get(img_url, stream = True)\n",
    "    response.raise_for_status()\n",
    "    if response.status_code != 204:\n",
    "        img = Image.open(response.raw)\n",
    "        return img.save(directory + str(n) +'.jpg', 'JPEG')"
   ]
  },
  {
   "cell_type": "code",
   "execution_count": 13,
   "id": "8401e7a3",
   "metadata": {},
   "outputs": [],
   "source": [
    "web_fetch('http://img.youtube.com/vi/706LgCuuVcw/0.jpg', 0, directory)"
   ]
  },
  {
   "cell_type": "code",
   "execution_count": 14,
   "id": "93454e57",
   "metadata": {},
   "outputs": [
    {
     "name": "stdout",
     "output_type": "stream",
     "text": [
      "http://www.radianceretreats.com/newsletters/2011/September/45.jpg does not work\n",
      "http://www.mydailyyoga.at/wp-content/uploads/2017/03/Parighasana-h-820x312.jpg does not work\n",
      "https://aloe.style/wp-content/uploads/2017/05/shutterstock-422380348.jpg does not work\n",
      "http://allyogapositions.com/wp-content/uploads/2016/08/gate-pose-yoga-_7-150x150.jpg does not work\n",
      "https://www.yogajournal.com/.image/c_limit%2Ccs_srgb%2Cfl_progressive%2Cq_auto:good%2Cw_620/MTQ2MTgwNzg1NzU5OTIxNTk3/image-placeholder-title.jpg does not work\n",
      "http://www.tophealthremedies.com/wp-content/uploads/2015/12/Remarkable-Benefits-Of-Performing-Gate-Pose-400x255.jpg does not work\n",
      "https://www.yogajournal.com/.image/c_fill%2Ccs_srgb%2Cg_face%2Ch_80%2Cq_auto:good%2Cw_80/MTUwNDMwOTE3MzUyMjM2MDQy/anatomy_parighasanagate-pose.jpg does not work\n",
      "http://yogaanita.com/wp-content/uploads/2014/06/gate-pose-wJudy.jpg does not work\n",
      "https://www.proprofs.com/flashcards/upload/a10680248.jpg does not work\n",
      "https://78.media.tumblr.com/41706ecec7ef4c898699a6c3c9bf9b06/tumblr_n8fcnc3Yjf1s31tlko5_500.png does not work\n",
      "http://www.marciamonroe.net/_images/escoliose-img03.jpg does not work\n",
      "http://www.athleta.net/wp-content/uploads/2014/04/Gate-Pose-Prep-4468.jpg does not work\n",
      "http://yogaposes8.com/wp-content/uploads/2016/10/yoga-gate-pose_14.jpg does not work\n",
      "http://www.yogamagazine.com/wp-content/uploads/2017/05/parighasana-beginner-1024x611.jpg does not work\n",
      "http://www.yogaprasad.in/images/aof_parighasana.jpg does not work\n",
      "https://www.yogajournal.com/.image/c_fill%2Ccs_srgb%2Cg_face%2Ch_80%2Cq_auto:good%2Cw_80/MTQ2MTgwNzA2MDM2MDk4NDkz/gate-pose.jpg does not work\n",
      "https://i2.wp.com/soulsurfnyoga.com/wp-content/uploads/2017/02/GATE.jpg does not work\n",
      "https://78.media.tumblr.com/8f099573d769ae92ba790459d6390b7d/tumblr_n8fcnc3Yjf1s31tlko2_500.png does not work\n",
      "http://joythruyoga.com/temp/wp-content/uploads/2014/12/DSC_2207-150x150.jpg does not work\n",
      "http://theartofbalance.com.au/wp-content/uploads/2016/04/gate-pose-1-300x300.jpg does not work\n",
      "https://extendyoga.com/wp-content/uploads/2015/07/nina.jpg does not work\n",
      "http://www.nchantingyoga.com/wp-content/uploads/2012/07/IMG_2778.jpg does not work\n",
      "https://s3.amazonaws.com/tummee/half_circle_pose_hand_in_front__ardha_mandalasana_hand_in_front_yoga.png does not work\n",
      "http://extendyoga.com/wp-content/uploads/2015/07/IMG_0324-e1436483241642-300x3001.jpg does not work\n",
      "http://theurbaness.com/img/content/yoga_peace_poses_01.jpg does not work\n",
      "https://inthehereandnow.com/images/blog/parighasana.png does not work\n",
      "https://leaf.nutrisystem.com/wp-content/uploads/2016/06/gate-pose.jpg does not work\n",
      "https://s3.amazonaws.com/tummee/parighasana_yoga.png does not work\n",
      "http://www.posttoday.com/media/content/2016/11/05/E21BA49951554F2EB12EB3521892B23A.jpg does not work\n",
      "http://nacharlet.com/wp-content/uploads/2014/09/DSC8574.jpg does not work\n",
      "http://blogunlimited.com/blogimages/blogunlimited_com/GopalPolimetla/12525_Gate-PoseParighasana-web_if.jpg does not work\n",
      "http://livedoor.blogimg.jp/mikamikayoga/imgs/3/7/37e1a497.png does not work\n",
      "http://www.chopra.com/sites/default/files/parighasana200x200.jpg does not work\n",
      "http://yogaposes8.com/wp-content/uploads/2016/10/yoga-gate-pose_3.jpg does not work\n",
      "https://chopra.com/sites/default/files/gatepose.jpg does not work\n",
      "http://liveanddiet.com/wp-content/uploads/2015/02/gate-pose-yoga-for-athletes.jpg does not work\n",
      "http://www.athleta.net/wp-content/uploads/2014/04/Gate-Pose-Full-pose-4464.jpg does not work\n",
      "https://www.yogajournal.com/.image/t_share/MTQ2MTgwNjcyNDkzMDY5ODU2/image-placeholder-title.jpg does not work\n",
      "http://littlelotusyoga.ca/wp-content/uploads/2014/08/Prenatal-Gate.jpg does not work\n",
      "https://yogaposesguide.com/wp-content/uploads/2018/04/blissyouryoga-450x285.jpg does not work\n",
      "https://ind5.ccio.co/JC/9B/v/93ee3f068c4ad9197d5b6b588a8ce209.jpg does not work\n",
      "https://www.epainassist.com/images/Parighasana-or-Gate-Pose.jpg does not work\n",
      "http://media.yogajournal.com/wp-content/uploads/0161.jpg does not work\n",
      "http://www.asanajournal.com/wp-content/uploads/2017/08/4-1.bmp does not work\n",
      "http://parade.condenast.com/wp-content/uploads/2014/05/countrygate.jpg does not work\n",
      "http://www.smartbackbrace.com/media/article/media000/0000002624/lg0000002624_AR_1449176947_7604438.jpg does not work\n",
      "http://www.ekhartyoga.com/media/images/open-up-the-gate-in-gate-pose.jpg does not work\n",
      "https://www.ritualflow.com/wp-content/uploads/2017/06/gate-pose.png does not work\n",
      "https://i1.wp.com/yogalily.com/tuzi/wp-content/uploads/2013/10/Gate-Pose-Parighasana-Feature.jpg?fit=750%2C380&amp;resize=40%2C40 does not work\n",
      "http://www.ritualflow.com/wp-content/uploads/2017/06/gate-pose-variation-yoga-block.png does not work\n",
      "http://littlelotusyoga.ca/wp-content/uploads/2014/08/Prenatal-Gate-400x400.jpg does not work\n",
      "https://yogaposesguide.com/wp-content/uploads/2018/04/discovering_leigh-450x450.jpg does not work\n",
      "https://yogaposesguide.com/wp-content/uploads/2018/04/directorioyogaaragua-450x450.jpg does not work\n",
      "http://allyogapositions.com/wp-content/uploads/2016/08/gate-pose-yoga-_2.jpg does not work\n",
      "http://villagelivingmagazine.ca/wp-content/uploads/2015/09/Article-4_Gate.jpg does not work\n",
      "http://yogaposes8.com/wp-content/uploads/2016/10/yoga-parighasana-pose_23.jpg does not work\n",
      "http://www.boldsky.com/img/2016/08/parighasana-gate-pose-for-asthmatics-11-1470906506.jpg does not work\n",
      "http://www.gillianb.com/wp-content/uploads/2012/05/D2X-20120130-07519-9X12-Retouched-768x1024.jpg does not work\n",
      "http://www.boldsky.com/img/2016/07/parighasana-gate-pose-to-strengthen-the-muscles-21-1469095180.jpg does not work\n",
      "http://www.boldsky.com/img/2016/08/gate-11-1470906499.jpg does not work\n",
      "http://www.tophealthremedies.com/wp-content/uploads/2015/12/Remarkable-Benefits-Of-Performing-Gate-Pose.jpg does not work\n",
      "http://www.ekhartyoga.com/media/images/gate-pose_0.jpg does not work\n",
      "http://media.yogajournal.com/wp-content/uploads/HP_288_03_bjk2.jpg does not work\n",
      "http://yogalily.com/tuzi/wp-content/uploads/2013/10/Gate-Pose-Parighasana-1.jpg does not work\n",
      "http://yogaposes8.com/wp-content/uploads/2016/10/yoga-parighasana-pose_25.jpg does not work\n",
      "http://www.hyablog.com/wp-content/uploads/2012/04/A0058-IY-110301-377-Final-1024x682.jpg does not work\n",
      "http://media.yogajournal.com/wp-content/uploads/Anatomy_285_04_FNL.jpg does not work\n",
      "http://www.feelgoodyogavictoria.com/fgyp/wp-content/uploads/2015/01/gate-pose-parighasana.png does not work\n",
      "https://www.yogajournal.com.au/wp-content/uploads/2016/03/gate_pose.jpg does not work\n",
      "https://www.expandinglight.org/i/anandayoga/asanas/large/parighasana.png does not work\n",
      "http://yogalily.com/tuzi/wp-content/uploads/2013/10/Gate-Pose-Parighasana-3.jpg does not work\n",
      "http://www.finessyoga.com/wp-content/uploads/2018/02/Parighasana.png does not work\n",
      "https://www.yogajournal.com.au/wp-content/uploads/2016/03/gate_pose2.jpg does not work\n",
      "http://www.yogaxtc.com/asana/images/parighasana_4.jpg does not work\n",
      "http://yogaxtc.com/asana/images/parighasana.jpg does not work\n",
      "http://www.theyogaposes.com/images/p/yoga-gate-pose.jpg does not work\n",
      "https://www.yogajournal.com/.image/t_share/MTQ3MTU3MTM1OTc1Nzg2Mjg3/3hp_288_03_bjk2.jpg does not work\n",
      "https://www.yogajournal.com/.image/t_share/MTQ2MTgwODA2Njk3MTY2MzY4/story-image-16346.jpg does not work\n"
     ]
    }
   ],
   "source": [
    "f_list = []\n",
    "for n, url in enumerate(data_gate_pose['Links']):\n",
    "    try:\n",
    "        image = web_fetch(url, n, directory) \n",
    "    except:\n",
    "        print(f'{url} does not work')\n",
    "        f_list.append(url)\n",
    "    #if we run into error"
   ]
  },
  {
   "cell_type": "code",
   "execution_count": null,
   "id": "95e4e478",
   "metadata": {},
   "outputs": [],
   "source": [
    "(1 - len(f_list)/len(data_gate_pose['Links']))*len(data_gate_pose['Links'])"
   ]
  },
  {
   "cell_type": "markdown",
   "id": "d30fff6d",
   "metadata": {},
   "source": [
    "## Create a directory with loaded images."
   ]
  },
  {
   "cell_type": "code",
   "execution_count": 19,
   "id": "c1d0bd2b",
   "metadata": {},
   "outputs": [],
   "source": [
    "def make_df(filename):\n",
    "    #create dataframe for iterating URLs\n",
    "    df = pd.read_table(filename, header = 0, names = ['Labels', 'Links'])\n",
    "    return df"
   ]
  },
  {
   "cell_type": "code",
   "execution_count": 22,
   "id": "42910f5c",
   "metadata": {},
   "outputs": [],
   "source": [
    "def web_fetch(img_url:str, n:int, directory:str):\n",
    "    #fetches image from url and saves in a directory. n int is more for the for loop below.\n",
    "    response = requests.get(img_url, stream = True)\n",
    "    response.raise_for_status()\n",
    "    if response.status_code != 204:\n",
    "        img = Image.open(response.raw)\n",
    "        return img.save(directory + str(n) +'.jpg', 'JPEG')"
   ]
  },
  {
   "cell_type": "code",
   "execution_count": 25,
   "id": "7f92abda",
   "metadata": {},
   "outputs": [],
   "source": [
    "def remove_errs(df):\n",
    "    f_list = [] #list of broken urls \n",
    "    for n, url in enumerate(df['Links']):\n",
    "        try:\n",
    "            image = web_fetch(url, n, directory) \n",
    "        except:\n",
    "            f_list.append(url)\n",
    "    return f_list"
   ]
  },
  {
   "cell_type": "code",
   "execution_count": 23,
   "id": "ad45ed59",
   "metadata": {},
   "outputs": [],
   "source": [
    "df = make_df('Noose_Pose_or_Pasasana_.txt')"
   ]
  },
  {
   "cell_type": "code",
   "execution_count": 26,
   "id": "1992f252",
   "metadata": {},
   "outputs": [],
   "source": [
    "remove_errs(df)"
   ]
  },
  {
   "cell_type": "code",
   "execution_count": null,
   "id": "d9a98991",
   "metadata": {},
   "outputs": [],
   "source": []
  }
 ],
 "metadata": {
  "kernelspec": {
   "display_name": "Python 3 (ipykernel)",
   "language": "python",
   "name": "python3"
  },
  "language_info": {
   "codemirror_mode": {
    "name": "ipython",
    "version": 3
   },
   "file_extension": ".py",
   "mimetype": "text/x-python",
   "name": "python",
   "nbconvert_exporter": "python",
   "pygments_lexer": "ipython3",
   "version": "3.10.6"
  },
  "toc": {
   "base_numbering": 1,
   "nav_menu": {},
   "number_sections": true,
   "sideBar": true,
   "skip_h1_title": false,
   "title_cell": "Table of Contents",
   "title_sidebar": "Contents",
   "toc_cell": false,
   "toc_position": {},
   "toc_section_display": true,
   "toc_window_display": false
  }
 },
 "nbformat": 4,
 "nbformat_minor": 5
}
