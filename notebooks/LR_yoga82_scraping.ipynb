{
 "cells": [
  {
   "cell_type": "markdown",
   "id": "22767dbf-1cd1-4e56-9f95-9eab7cd36d7f",
   "metadata": {},
   "source": [
    "# Imports"
   ]
  },
  {
   "cell_type": "code",
   "execution_count": 1,
   "id": "2a9c8c26-b8a3-4cf5-a34b-2d3555314169",
   "metadata": {},
   "outputs": [],
   "source": [
    "import os\n",
    "from os import listdir\n",
    "from os.path import isfile, join\n",
    "\n",
    "import requests\n",
    "\n",
    "import pandas as pd"
   ]
  },
  {
   "cell_type": "markdown",
   "id": "b06bc3a9-b30d-4f15-8730-46f5b8ded373",
   "metadata": {},
   "source": [
    "# Source Files"
   ]
  },
  {
   "cell_type": "code",
   "execution_count": 29,
   "id": "45c9b6f8-3678-4fad-8961-e74bb6549198",
   "metadata": {},
   "outputs": [],
   "source": [
    "# Source Params\n",
    "\n",
    "cwd_path = os.getcwd()\n",
    "rel_path = '../raw_data/Yoga-82/yoga_dataset_links'\n",
    "my_path = os.path.join(cwd_path, rel_path)\n",
    "\n",
    "\n",
    "files = [f'{my_path}/{f}' for f in listdir(my_path) if f.endswith('.txt')]"
   ]
  },
  {
   "cell_type": "code",
   "execution_count": 30,
   "id": "ece230d1-b13a-4c54-8b88-9a5604f34b92",
   "metadata": {},
   "outputs": [
    {
     "data": {
      "text/plain": [
       "'/home/lscr/code/2023-q1-wagon/2023-q1-projects/YOGi/notebooks/../raw_data/Yoga-82/yoga_dataset_links'"
      ]
     },
     "execution_count": 30,
     "metadata": {},
     "output_type": "execute_result"
    }
   ],
   "source": [
    "my_path"
   ]
  },
  {
   "cell_type": "code",
   "execution_count": 31,
   "id": "499e8ce0-cf7f-49ef-a3a0-39226c35a6df",
   "metadata": {},
   "outputs": [
    {
     "name": "stdout",
     "output_type": "stream",
     "text": [
      "/home/lscr/code/2023-q1-wagon/2023-q1-projects/YOGi/notebooks/../raw_data/Yoga-82/yoga_dataset_links/Sitting pose 1 (normal).txt\n",
      "/home/lscr/code/2023-q1-wagon/2023-q1-projects/YOGi/notebooks/../raw_data/Yoga-82/yoga_dataset_links/Split pose.txt\n"
     ]
    }
   ],
   "source": [
    "for file in files:\n",
    "    if ' ' in file:\n",
    "        print(file)"
   ]
  },
  {
   "cell_type": "code",
   "execution_count": 19,
   "id": "5c27e336-5e52-4f9c-9215-40223e79493b",
   "metadata": {},
   "outputs": [
    {
     "data": {
      "text/plain": [
       "['/home/lscr/code/2023-q1-wagon/2023-q1-projects/YOGi/notebooks/../raw_data/Yoga-82/yoga_dataset_links/Sitting pose 1 (normal).txt',\n",
       " '/home/lscr/code/2023-q1-wagon/2023-q1-projects/YOGi/notebooks/../raw_data/Yoga-82/yoga_dataset_links/Side-Reclining_Leg_Lift_pose_or_Anantasana_.txt',\n",
       " '/home/lscr/code/2023-q1-wagon/2023-q1-projects/YOGi/notebooks/../raw_data/Yoga-82/yoga_dataset_links/Split pose.txt',\n",
       " '/home/lscr/code/2023-q1-wagon/2023-q1-projects/YOGi/notebooks/../raw_data/Yoga-82/yoga_dataset_links/Camel_Pose_or_Ustrasana_.txt',\n",
       " '/home/lscr/code/2023-q1-wagon/2023-q1-projects/YOGi/notebooks/../raw_data/Yoga-82/yoga_dataset_links/Tortoise_Pose.txt',\n",
       " '/home/lscr/code/2023-q1-wagon/2023-q1-projects/YOGi/notebooks/../raw_data/Yoga-82/yoga_dataset_links/Tree_Pose_or_Vrksasana_.txt',\n",
       " '/home/lscr/code/2023-q1-wagon/2023-q1-projects/YOGi/notebooks/../raw_data/Yoga-82/yoga_dataset_links/Upward_Plank_Pose_or_Purvottanasana_.txt']"
      ]
     },
     "execution_count": 19,
     "metadata": {},
     "output_type": "execute_result"
    }
   ],
   "source": [
    "files[75:]"
   ]
  },
  {
   "cell_type": "markdown",
   "id": "4916db36-35f8-4afe-b385-41dcf84bc260",
   "metadata": {},
   "source": [
    "# Scraping"
   ]
  },
  {
   "cell_type": "code",
   "execution_count": 6,
   "id": "f38569b8-a1f5-492f-8680-aa444e7448f1",
   "metadata": {},
   "outputs": [],
   "source": [
    "# Write Params\n",
    "\n",
    "rel_save_path = '../raw_data/images'\n",
    "abs_save_root_path = os.path.join(cwd_path, rel_save_path)\n",
    "\n",
    "TIMEOUT = 3\n",
    "\n",
    "scrape_dict = {\n",
    "    'class': [],\n",
    "    'image_name': [],\n",
    "    'url': [],\n",
    "    'success': []\n",
    "}"
   ]
  },
  {
   "cell_type": "code",
   "execution_count": 20,
   "id": "15ca0c3d-44fc-4408-9da4-3929aae65807",
   "metadata": {
    "tags": []
   },
   "outputs": [
    {
     "name": "stdout",
     "output_type": "stream",
     "text": [
      "Scraping Sitting pose 1 (normal) - file 1 of 82\n",
      "Attempted 50 of 928 images in class 1.\n",
      "Attempted 100 of 928 images in class 1.\n",
      "Attempted 150 of 928 images in class 1.\n",
      "Attempted 200 of 928 images in class 1.\n",
      "Attempted 250 of 928 images in class 1.\n",
      "Attempted 300 of 928 images in class 1.\n",
      "Attempted 350 of 928 images in class 1.\n",
      "Attempted 400 of 928 images in class 1.\n",
      "Attempted 450 of 928 images in class 1.\n",
      "Attempted 500 of 928 images in class 1.\n",
      "Attempted 550 of 928 images in class 1.\n",
      "Attempted 600 of 928 images in class 1.\n",
      "Attempted 650 of 928 images in class 1.\n",
      "Attempted 700 of 928 images in class 1.\n",
      "Attempted 750 of 928 images in class 1.\n",
      "Attempted 800 of 928 images in class 1.\n",
      "Attempted 850 of 928 images in class 1.\n",
      "Attempted 900 of 928 images in class 1.\n",
      "Attempted to scrape 928 images with 208 broken links.\n",
      "Scraping Side-Reclining_Leg_Lift_pose_or_Anantasana_ - file 2 of 82\n",
      "Attempted 50 of 103 images in class 2.\n",
      "Attempted 100 of 103 images in class 2.\n",
      "Attempted to scrape 103 images with 28 broken links.\n",
      "Scraping Split pose - file 3 of 82\n",
      "Attempted 50 of 450 images in class 3.\n",
      "Attempted 100 of 450 images in class 3.\n",
      "Attempted 150 of 450 images in class 3.\n",
      "Attempted 200 of 450 images in class 3.\n",
      "Attempted 250 of 450 images in class 3.\n",
      "Attempted 300 of 450 images in class 3.\n",
      "Attempted 350 of 450 images in class 3.\n",
      "Attempted 400 of 450 images in class 3.\n",
      "Attempted 450 of 450 images in class 3.\n",
      "Attempted to scrape 450 images with 75 broken links.\n",
      "Scraping Camel_Pose_or_Ustrasana_ - file 4 of 82\n",
      "Attempted 50 of 504 images in class 4.\n",
      "Attempted 100 of 504 images in class 4.\n",
      "Attempted 150 of 504 images in class 4.\n",
      "Attempted 200 of 504 images in class 4.\n",
      "Attempted 250 of 504 images in class 4.\n",
      "Attempted 300 of 504 images in class 4.\n",
      "Attempted 350 of 504 images in class 4.\n",
      "Attempted 400 of 504 images in class 4.\n",
      "Attempted 450 of 504 images in class 4.\n",
      "Attempted 500 of 504 images in class 4.\n",
      "Attempted to scrape 504 images with 136 broken links.\n",
      "Scraping Tortoise_Pose - file 5 of 82\n",
      "Attempted 50 of 213 images in class 5.\n",
      "Attempted 100 of 213 images in class 5.\n",
      "Attempted 150 of 213 images in class 5.\n",
      "Attempted 200 of 213 images in class 5.\n",
      "Attempted to scrape 213 images with 56 broken links.\n",
      "Scraping Tree_Pose_or_Vrksasana_ - file 6 of 82\n",
      "Attempted 50 of 459 images in class 6.\n",
      "Attempted 100 of 459 images in class 6.\n",
      "Attempted 150 of 459 images in class 6.\n",
      "Attempted 200 of 459 images in class 6.\n",
      "Attempted 250 of 459 images in class 6.\n",
      "Attempted 300 of 459 images in class 6.\n",
      "Attempted 350 of 459 images in class 6.\n",
      "Attempted 400 of 459 images in class 6.\n",
      "Attempted 450 of 459 images in class 6.\n",
      "Attempted to scrape 459 images with 114 broken links.\n",
      "Scraping Upward_Plank_Pose_or_Purvottanasana_ - file 7 of 82\n",
      "Attempted 50 of 314 images in class 7.\n",
      "Attempted 100 of 314 images in class 7.\n",
      "Attempted 150 of 314 images in class 7.\n",
      "Attempted 200 of 314 images in class 7.\n",
      "Attempted 250 of 314 images in class 7.\n",
      "Attempted 300 of 314 images in class 7.\n",
      "Attempted to scrape 314 images with 81 broken links.\n",
      "Completed scraping!\n"
     ]
    }
   ],
   "source": [
    "for i, file in enumerate(files, 1):\n",
    "    pose_class = file.strip('.txt').split('/')[-1]\n",
    "    print(f'Scraping {pose_class} - file {i} of {len(files)}')\n",
    "    class_save_dir = os.path.join(abs_save_root_path, pose_class)\n",
    "    \n",
    "    if not os.path.exists(class_save_dir):\n",
    "        os.makedirs(class_save_dir)\n",
    "    \n",
    "    # Open text file with links\n",
    "    with open(file, 'r') as f:\n",
    "        lines = [l.strip().split('\\t') for l in f]\n",
    "        \n",
    "        fail_count = 0\n",
    "        # Iterate through lines in file\n",
    "        for ii, line in enumerate(lines, 1):\n",
    "            # line[0] == 'class_dir/img.jpg'\n",
    "            # line[1] == img_url\n",
    "            image_save_path = os.path.join(abs_save_root_path, line[0])\n",
    "            \n",
    "            # http request\n",
    "            try: # try-except for when a domain no longer exists\n",
    "                response = requests.get(line[1], timeout=TIMEOUT)\n",
    "\n",
    "                # success  \n",
    "                if response.status_code == 200:\n",
    "                    with open(image_save_path, 'wb') as f:\n",
    "                        f.write(response.content)\n",
    "                    # write to dict for info\n",
    "                    scrape_dict['class'].append(pose_class)\n",
    "                    scrape_dict['image_name'].append(line[0].split('/')[1])\n",
    "                    scrape_dict['url'].append(line[1])\n",
    "                    scrape_dict['success'].append(1)\n",
    "\n",
    "                # failure\n",
    "                else:\n",
    "                    scrape_dict['class'].append(pose_class)\n",
    "                    scrape_dict['image_name'].append(line[0].split('/')[1])\n",
    "                    scrape_dict['url'].append(line[1])\n",
    "                    scrape_dict['success'].append(0)\n",
    "                    fail_count += 1\n",
    "            \n",
    "            # failure\n",
    "            except: \n",
    "                scrape_dict['class'].append(pose_class)\n",
    "                scrape_dict['image_name'].append(line[0].split('/')[1])\n",
    "                scrape_dict['url'].append(line[1])\n",
    "                scrape_dict['success'].append(0)\n",
    "                fail_count += 1\n",
    "                    \n",
    "            # info\n",
    "            if ii % 50 == 0:\n",
    "                print(f'Attempted {ii} of {len(lines)} images in class {i}.')\n",
    "            if ii == len(lines):\n",
    "                print(f'Attempted to scrape {ii} images with {fail_count} broken links.')\n",
    "\n",
    "print('Completed scraping!')"
   ]
  },
  {
   "cell_type": "code",
   "execution_count": 21,
   "id": "0d7266b1-5eff-4316-a832-00380a08cd6b",
   "metadata": {},
   "outputs": [],
   "source": [
    "df = pd.DataFrame(scrape_dict)"
   ]
  },
  {
   "cell_type": "code",
   "execution_count": 22,
   "id": "ac0df20a-f67f-4793-a05b-ffee1e44f349",
   "metadata": {},
   "outputs": [],
   "source": [
    "df.to_csv(f'{abs_save_root_path}/yoga-82_scraping.csv', index=False)"
   ]
  },
  {
   "cell_type": "code",
   "execution_count": 23,
   "id": "576313ce-8099-487d-aaca-1337ac7c9d02",
   "metadata": {},
   "outputs": [
    {
     "data": {
      "text/plain": [
       "(28450, 4)"
      ]
     },
     "execution_count": 23,
     "metadata": {},
     "output_type": "execute_result"
    }
   ],
   "source": [
    "df.shape"
   ]
  },
  {
   "cell_type": "code",
   "execution_count": 24,
   "id": "20f5390a-4d68-4f97-81aa-354f244cb3f1",
   "metadata": {},
   "outputs": [
    {
     "data": {
      "text/plain": [
       "['/home/lscr/code/2023-q1-wagon/2023-q1-projects/YOGi/notebooks/../raw_data/Yoga-82/yoga_dataset_links/Sitting pose 1 (normal).txt',\n",
       " '/home/lscr/code/2023-q1-wagon/2023-q1-projects/YOGi/notebooks/../raw_data/Yoga-82/yoga_dataset_links/Side-Reclining_Leg_Lift_pose_or_Anantasana_.txt',\n",
       " '/home/lscr/code/2023-q1-wagon/2023-q1-projects/YOGi/notebooks/../raw_data/Yoga-82/yoga_dataset_links/Split pose.txt',\n",
       " '/home/lscr/code/2023-q1-wagon/2023-q1-projects/YOGi/notebooks/../raw_data/Yoga-82/yoga_dataset_links/Camel_Pose_or_Ustrasana_.txt',\n",
       " '/home/lscr/code/2023-q1-wagon/2023-q1-projects/YOGi/notebooks/../raw_data/Yoga-82/yoga_dataset_links/Tortoise_Pose.txt',\n",
       " '/home/lscr/code/2023-q1-wagon/2023-q1-projects/YOGi/notebooks/../raw_data/Yoga-82/yoga_dataset_links/Tree_Pose_or_Vrksasana_.txt',\n",
       " '/home/lscr/code/2023-q1-wagon/2023-q1-projects/YOGi/notebooks/../raw_data/Yoga-82/yoga_dataset_links/Upward_Plank_Pose_or_Purvottanasana_.txt']"
      ]
     },
     "execution_count": 24,
     "metadata": {},
     "output_type": "execute_result"
    }
   ],
   "source": [
    "files[75:]"
   ]
  },
  {
   "cell_type": "code",
   "execution_count": 34,
   "id": "712ee824-a8ba-4e77-a457-01024ed06852",
   "metadata": {},
   "outputs": [],
   "source": [
    "num_success = df.success.sum()\n",
    "per_success = df.success.sum() / df.shape[0]"
   ]
  },
  {
   "cell_type": "code",
   "execution_count": 38,
   "id": "57d10c7f-d8c9-43f6-ba59-3e3d6b7ff7c6",
   "metadata": {},
   "outputs": [
    {
     "name": "stdout",
     "output_type": "stream",
     "text": [
      "Successfully scraped 21717 images out of a total 28450 images. 76.33% success rate.\n"
     ]
    }
   ],
   "source": [
    "print(f'Successfully scraped {num_success} images out of a total {df.shape[0]} images.{per_success * 100: 0.2f}% success rate.')"
   ]
  },
  {
   "cell_type": "markdown",
   "id": "d36f0665-8f59-4350-b6a0-16d786abedf1",
   "metadata": {},
   "source": [
    "# Checking Each Image that has been downloaded"
   ]
  },
  {
   "cell_type": "code",
   "execution_count": null,
   "id": "948fc104-1949-4764-b9c2-927cf0cb185f",
   "metadata": {},
   "outputs": [],
   "source": []
  },
  {
   "cell_type": "code",
   "execution_count": null,
   "id": "9f368914-2438-4043-9b73-5dba4b2e7792",
   "metadata": {},
   "outputs": [],
   "source": []
  }
 ],
 "metadata": {
  "kernelspec": {
   "display_name": "Python 3 (ipykernel)",
   "language": "python",
   "name": "python3"
  },
  "language_info": {
   "codemirror_mode": {
    "name": "ipython",
    "version": 3
   },
   "file_extension": ".py",
   "mimetype": "text/x-python",
   "name": "python",
   "nbconvert_exporter": "python",
   "pygments_lexer": "ipython3",
   "version": "3.10.6"
  }
 },
 "nbformat": 4,
 "nbformat_minor": 5
}
