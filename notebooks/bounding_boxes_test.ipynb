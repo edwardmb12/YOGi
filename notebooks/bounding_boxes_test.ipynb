{
 "cells": [
  {
   "cell_type": "code",
   "execution_count": 1,
   "id": "1946ed4a",
   "metadata": {
    "scrolled": true
   },
   "outputs": [
    {
     "name": "stdout",
     "output_type": "stream",
     "text": [
      "Requirement already satisfied: opencv-python in /Users/ejm-b/.pyenv/versions/3.10.6/envs/YOGi/lib/python3.10/site-packages (4.7.0.72)\n",
      "Requirement already satisfied: numpy>=1.17.0 in /Users/ejm-b/.pyenv/versions/3.10.6/envs/YOGi/lib/python3.10/site-packages (from opencv-python) (1.24.2)\n",
      "Note: you may need to restart the kernel to use updated packages.\n"
     ]
    }
   ],
   "source": [
    "pip install opencv-python"
   ]
  },
  {
   "cell_type": "code",
   "execution_count": 2,
   "id": "daece44d",
   "metadata": {},
   "outputs": [
    {
     "name": "stdout",
     "output_type": "stream",
     "text": [
      "Requirement already satisfied: imutils in /Users/ejm-b/.pyenv/versions/3.10.6/envs/YOGi/lib/python3.10/site-packages (0.5.4)\n",
      "Note: you may need to restart the kernel to use updated packages.\n"
     ]
    }
   ],
   "source": [
    "pip install imutils"
   ]
  },
  {
   "cell_type": "code",
   "execution_count": 14,
   "id": "1aed5268",
   "metadata": {},
   "outputs": [],
   "source": [
    "import os\n",
    "import cv2\n",
    "import imutils \n",
    "import matplotlib.pyplot as plt"
   ]
  },
  {
   "cell_type": "code",
   "execution_count": null,
   "id": "083cd9da",
   "metadata": {},
   "outputs": [],
   "source": [
    "image = cv2.imread(\"/Users/ejm-b/code/edwardmb12/YOGi/white_shapes.webp\")"
   ]
  },
  {
   "cell_type": "code",
   "execution_count": null,
   "id": "254871e0",
   "metadata": {},
   "outputs": [],
   "source": [
    "gray_image = cv2.cvtColor(image, cv2.COLOR_BGR2GRAY)\n",
    "thresh_image = cv2.threshold(gray_image, 0, 255, cv2.THRESH_BINARY_INV + cv2.THRESH_OTSU)[1]"
   ]
  },
  {
   "cell_type": "code",
   "execution_count": null,
   "id": "367ad2b4",
   "metadata": {},
   "outputs": [],
   "source": [
    "contours = cv2.findContours(thresh_image, cv2.RETR_EXTERNAL, cv2.CHAIN_APPROX_SIMPLE)\n",
    "contours = contours[0] if len(contours) == 2 else contours[1]"
   ]
  },
  {
   "cell_type": "code",
   "execution_count": null,
   "id": "4bd07979",
   "metadata": {},
   "outputs": [],
   "source": [
    "for i in contours:\n",
    "    x,y,w,h = cv2.boundingRect(i)\n",
    "    cv2.rectangle(image, (x, y), (x + w, y + h), (255,0,0), 4)"
   ]
  },
  {
   "cell_type": "code",
   "execution_count": null,
   "id": "39c33215",
   "metadata": {},
   "outputs": [],
   "source": [
    "result = cv2.imshow('Bounding Box', image)"
   ]
  },
  {
   "cell_type": "code",
   "execution_count": null,
   "id": "ac45bd8e",
   "metadata": {},
   "outputs": [],
   "source": []
  },
  {
   "cell_type": "code",
   "execution_count": null,
   "id": "0c82943e",
   "metadata": {},
   "outputs": [],
   "source": [
    "# im = cv2.imread(\"/Users/ejm-b/code/edwardmb12/YOGi/Downward-Facing-Dog.jpeg\")\n",
    "# gray=cv2.cvtColor(im,cv2.COLOR_BGR2GRAY)\n",
    "# contours, hierarchy = cv2.findContours(gray,cv2.RETR_LIST,cv2.CHAIN_APPROX_SIMPLE)[-2:]\n",
    "# idx =0 \n",
    "# for cnt in contours:\n",
    "#     idx += 1\n",
    "#     x,y,w,h = cv2.boundingRect(cnt)\n",
    "#     roi=im[y:y+h,x:x+w]\n",
    "#     cv2.imwrite(str(idx) + '.jpg', roi)\n",
    "#     #cv2.rectangle(im,(x,y),(x+w,y+h),(200,0,0),2)\n",
    "# cv2.imshow('img',im)\n",
    "# cv2.waitKey(0)   "
   ]
  },
  {
   "cell_type": "code",
   "execution_count": null,
   "id": "269c3be7",
   "metadata": {},
   "outputs": [],
   "source": [
    "# import required libraries\n",
    "import cv2\n",
    "\n",
    "# Reading the Image\n",
    "image = cv2.imread(\"/Users/ejm-b/code/edwardmb12/YOGi/Downward-Facing-Dog.jpeg\")\n",
    "\n",
    "# initialize the HOG descriptor\n",
    "hog = cv2.HOGDescriptor()\n",
    "hog.setSVMDetector(cv2.HOGDescriptor_getDefaultPeopleDetector())\n",
    "\n",
    "# detect humans in input image\n",
    "(humans, _) = hog.detectMultiScale(image, winStride=(40, 40),\n",
    "padding=(32, 32), scale=1.5)\n",
    "\n",
    "# getting no. of human detected\n",
    "print('Human Detected : ', len(humans))\n",
    "\n",
    "# loop over all detected humans\n",
    "for (x, y, w, h) in humans:\n",
    "   pad_w, pad_h = int(0.15 * w), int(0.01 * h)\n",
    "   cv2.rectangle(image, (x + pad_w, y + pad_h), (x + w - pad_w, y + h - pad_h), (0, 255, 0), 2)\n",
    "\n",
    "# display the output image\n",
    "cv2.imshow(\"Image\", image)\n",
    "cv2.waitKey(0)"
   ]
  },
  {
   "cell_type": "code",
   "execution_count": 4,
   "id": "2e80b3bd",
   "metadata": {},
   "outputs": [],
   "source": [
    "image = cv2.imread(\"/Users/ejm-b/code/edwardmb12/YOGi/Downward-Facing-Dog.jpeg\")"
   ]
  },
  {
   "cell_type": "code",
   "execution_count": 5,
   "id": "607c5261",
   "metadata": {},
   "outputs": [],
   "source": [
    "image = imutils.resize(image, \n",
    "                       width=min(500, image.shape[1])) "
   ]
  },
  {
   "cell_type": "code",
   "execution_count": 6,
   "id": "dd8f21ea",
   "metadata": {},
   "outputs": [],
   "source": [
    "hog = cv2.HOGDescriptor()  \n",
    "hog.setSVMDetector(cv2.HOGDescriptor_getDefaultPeopleDetector()) "
   ]
  },
  {
   "cell_type": "code",
   "execution_count": 7,
   "id": "8f445024",
   "metadata": {},
   "outputs": [],
   "source": [
    "(humans, _) = hog.detectMultiScale(image,  \n",
    "                                    winStride=(5, 5), \n",
    "                                    padding=(3, 3), \n",
    "                                    scale=1.21)"
   ]
  },
  {
   "cell_type": "code",
   "execution_count": 8,
   "id": "3728d9f2",
   "metadata": {},
   "outputs": [],
   "source": [
    "for (x, y, w, h) in humans: \n",
    "    cv2.rectangle(image, (x, y),  \n",
    "                  (x + w, y + h),  \n",
    "                  (0, 0, 255), 2) "
   ]
  },
  {
   "cell_type": "code",
   "execution_count": 9,
   "id": "137baf8a",
   "metadata": {},
   "outputs": [],
   "source": [
    "cv2.imshow(\"Image\", image) \n",
    "cv2.waitKey(0) \n",
    "   \n",
    "cv2.destroyAllWindows()"
   ]
  },
  {
   "cell_type": "code",
   "execution_count": 16,
   "id": "1bfa6101",
   "metadata": {},
   "outputs": [
    {
     "data": {
      "text/plain": [
       "['Scorpion.jpeg',\n",
       " 'WarriorOne.jpeg',\n",
       " 'Downward-Facing-Dog.jpeg',\n",
       " '6yogaposes.jpeg']"
      ]
     },
     "execution_count": 16,
     "metadata": {},
     "output_type": "execute_result"
    }
   ],
   "source": [
    "file_path = \"/Users/ejm-b/code/edwardmb12/YOGi/Yoga_images_test/\"\n",
    "file_list = os.listdir(file_path)\n",
    "file_list"
   ]
  },
  {
   "cell_type": "code",
   "execution_count": null,
   "id": "da3a26b9",
   "metadata": {},
   "outputs": [],
   "source": []
  }
 ],
 "metadata": {
  "kernelspec": {
   "display_name": "Python 3 (ipykernel)",
   "language": "python",
   "name": "python3"
  },
  "language_info": {
   "codemirror_mode": {
    "name": "ipython",
    "version": 3
   },
   "file_extension": ".py",
   "mimetype": "text/x-python",
   "name": "python",
   "nbconvert_exporter": "python",
   "pygments_lexer": "ipython3",
   "version": "3.10.6"
  },
  "toc": {
   "base_numbering": 1,
   "nav_menu": {},
   "number_sections": true,
   "sideBar": true,
   "skip_h1_title": false,
   "title_cell": "Table of Contents",
   "title_sidebar": "Contents",
   "toc_cell": false,
   "toc_position": {},
   "toc_section_display": true,
   "toc_window_display": false
  }
 },
 "nbformat": 4,
 "nbformat_minor": 5
}
