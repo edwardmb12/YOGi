{
 "cells": [
  {
   "cell_type": "code",
   "execution_count": null,
   "id": "1946ed4a",
   "metadata": {
    "scrolled": true
   },
   "outputs": [],
   "source": [
    "pip install opencv-python"
   ]
  },
  {
   "cell_type": "code",
   "execution_count": null,
   "id": "e0566428",
   "metadata": {},
   "outputs": [],
   "source": [
    "import matplotlib.pyplot as plt"
   ]
  },
  {
   "cell_type": "code",
   "execution_count": null,
   "id": "1aed5268",
   "metadata": {},
   "outputs": [],
   "source": [
    "import cv2"
   ]
  },
  {
   "cell_type": "code",
   "execution_count": null,
   "id": "083cd9da",
   "metadata": {},
   "outputs": [],
   "source": [
    "image = cv2.imread(\"/Users/ejm-b/code/edwardmb12/YOGi/white_shapes.webp\")"
   ]
  },
  {
   "cell_type": "code",
   "execution_count": null,
   "id": "254871e0",
   "metadata": {},
   "outputs": [],
   "source": [
    "gray_image = cv2.cvtColor(image, cv2.COLOR_BGR2GRAY)\n",
    "thresh_image = cv2.threshold(gray_image, 0, 255, cv2.THRESH_BINARY_INV + cv2.THRESH_OTSU)[1]"
   ]
  },
  {
   "cell_type": "code",
   "execution_count": null,
   "id": "367ad2b4",
   "metadata": {},
   "outputs": [],
   "source": [
    "contours = cv2.findContours(thresh_image, cv2.RETR_EXTERNAL, cv2.CHAIN_APPROX_SIMPLE)\n",
    "contours = contours[0] if len(contours) == 2 else contours[1]"
   ]
  },
  {
   "cell_type": "code",
   "execution_count": null,
   "id": "4bd07979",
   "metadata": {},
   "outputs": [],
   "source": [
    "for i in contours:\n",
    "    x,y,w,h = cv2.boundingRect(i)\n",
    "    cv2.rectangle(image, (x, y), (x + w, y + h), (255,0,0), 4)"
   ]
  },
  {
   "cell_type": "code",
   "execution_count": null,
   "id": "39c33215",
   "metadata": {},
   "outputs": [],
   "source": [
    "result = cv2.imshow('Bounding Box', image)"
   ]
  },
  {
   "cell_type": "code",
   "execution_count": null,
   "id": "ac45bd8e",
   "metadata": {},
   "outputs": [],
   "source": []
  },
  {
   "cell_type": "code",
   "execution_count": null,
   "id": "0c82943e",
   "metadata": {},
   "outputs": [],
   "source": [
    "# im = cv2.imread(\"/Users/ejm-b/code/edwardmb12/YOGi/Downward-Facing-Dog.jpeg\")\n",
    "# gray=cv2.cvtColor(im,cv2.COLOR_BGR2GRAY)\n",
    "# contours, hierarchy = cv2.findContours(gray,cv2.RETR_LIST,cv2.CHAIN_APPROX_SIMPLE)[-2:]\n",
    "# idx =0 \n",
    "# for cnt in contours:\n",
    "#     idx += 1\n",
    "#     x,y,w,h = cv2.boundingRect(cnt)\n",
    "#     roi=im[y:y+h,x:x+w]\n",
    "#     cv2.imwrite(str(idx) + '.jpg', roi)\n",
    "#     #cv2.rectangle(im,(x,y),(x+w,y+h),(200,0,0),2)\n",
    "# cv2.imshow('img',im)\n",
    "# cv2.waitKey(0)   "
   ]
  },
  {
   "cell_type": "code",
   "execution_count": null,
   "id": "269c3be7",
   "metadata": {},
   "outputs": [],
   "source": [
    "\n"
   ]
  }
 ],
 "metadata": {
  "kernelspec": {
   "display_name": "Python 3 (ipykernel)",
   "language": "python",
   "name": "python3"
  },
  "language_info": {
   "codemirror_mode": {
    "name": "ipython",
    "version": 3
   },
   "file_extension": ".py",
   "mimetype": "text/x-python",
   "name": "python",
   "nbconvert_exporter": "python",
   "pygments_lexer": "ipython3",
   "version": "3.10.6"
  },
  "toc": {
   "base_numbering": 1,
   "nav_menu": {},
   "number_sections": true,
   "sideBar": true,
   "skip_h1_title": false,
   "title_cell": "Table of Contents",
   "title_sidebar": "Contents",
   "toc_cell": false,
   "toc_position": {},
   "toc_section_display": true,
   "toc_window_display": false
  }
 },
 "nbformat": 4,
 "nbformat_minor": 5
}
