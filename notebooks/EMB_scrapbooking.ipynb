{
 "cells": [
  {
   "cell_type": "markdown",
   "id": "e355bf5e",
   "metadata": {},
   "source": [
    "# Imports"
   ]
  },
  {
   "cell_type": "code",
   "execution_count": 61,
   "id": "539a9a9d",
   "metadata": {},
   "outputs": [],
   "source": [
    "import matplotlib.pyplot as plt\n",
    "import random\n",
    "import os\n",
    "import numpy as np\n",
    "import cv2\n",
    "from tensorflow.keras.preprocessing.image import ImageDataGenerator\n",
    "from tensorflow.keras import utils, optimizers\n",
    "from PIL import Image\n",
    "import shutil\n",
    "from tensorflow.keras import models, layers\n",
    "from tensorflow.keras.applications import inception_v3\n",
    "from tensorflow.keras.callbacks import EarlyStopping\n",
    "from tensorflow.keras.applications import ResNet50\n",
    "from tensorflow.keras.applications import DenseNet169\n",
    "from tensorflow.keras.layers import Rescaling\n",
    "from tensorflow.image import resize\n",
    "from tensorflow.image import ResizeMethod\n",
    "from tensorflow.image import resize_with_pad # try both resize/resize with pad\n",
    "from tensorflow import reshape\n"
   ]
  },
  {
   "attachments": {},
   "cell_type": "markdown",
   "id": "0f74de36",
   "metadata": {},
   "source": [
    "# Scrapbook/testing"
   ]
  },
  {
   "attachments": {},
   "cell_type": "markdown",
   "id": "d48de206",
   "metadata": {},
   "source": [
    "# Image capture preprocess"
   ]
  },
  {
   "cell_type": "code",
   "execution_count": 28,
   "id": "b971d6e4",
   "metadata": {},
   "outputs": [],
   "source": [
    "chosen_file = \"../raw_data/dfd_test.jpeg\"\n",
    "IMG_HEIGHT = 256\n",
    "IMG_WIDTH = 256"
   ]
  },
  {
   "cell_type": "code",
   "execution_count": 34,
   "id": "a0972bd9",
   "metadata": {},
   "outputs": [],
   "source": [
    "chosen_file = plt.imread(chosen_file)"
   ]
  },
  {
   "cell_type": "code",
   "execution_count": 57,
   "id": "3a59bbb4",
   "metadata": {},
   "outputs": [],
   "source": [
    "\n",
    "def preprocess_image(image_input):\n",
    "    preprocessed_image = resize_with_pad(\n",
    "                                image_input,\n",
    "                                IMG_HEIGHT, \n",
    "                                IMG_WIDTH,\n",
    "                                method=ResizeMethod.LANCZOS3,\n",
    "                                )\n",
    "        \n",
    "    preprocessed_image = preprocessed_image/255.0\n",
    "\n",
    "    return preprocessed_image"
   ]
  },
  {
   "cell_type": "code",
   "execution_count": 58,
   "id": "2a4ecba2",
   "metadata": {},
   "outputs": [],
   "source": [
    "image_test = preprocess_image(chosen_file)"
   ]
  },
  {
   "cell_type": "code",
   "execution_count": 59,
   "id": "ffda7513",
   "metadata": {},
   "outputs": [
    {
     "data": {
      "text/plain": [
       "tensorflow.python.framework.ops.EagerTensor"
      ]
     },
     "execution_count": 59,
     "metadata": {},
     "output_type": "execute_result"
    }
   ],
   "source": [
    "type(image_test)"
   ]
  },
  {
   "cell_type": "code",
   "execution_count": 60,
   "id": "0587cdd2",
   "metadata": {},
   "outputs": [
    {
     "data": {
      "text/plain": [
       "TensorShape([256, 256, 3])"
      ]
     },
     "execution_count": 60,
     "metadata": {},
     "output_type": "execute_result"
    }
   ],
   "source": [
    "image_test.shape"
   ]
  },
  {
   "cell_type": "code",
   "execution_count": 64,
   "id": "731fa387",
   "metadata": {},
   "outputs": [],
   "source": [
    "new_image = reshape(image_test, (1, IMG_HEIGHT, IMG_WIDTH, 3))"
   ]
  },
  {
   "cell_type": "code",
   "execution_count": 65,
   "id": "5b3a2511",
   "metadata": {},
   "outputs": [
    {
     "data": {
      "text/plain": [
       "TensorShape([1, 256, 256, 3])"
      ]
     },
     "execution_count": 65,
     "metadata": {},
     "output_type": "execute_result"
    }
   ],
   "source": [
    "new_image.shape"
   ]
  },
  {
   "cell_type": "code",
   "execution_count": null,
   "id": "65fd3656",
   "metadata": {},
   "outputs": [],
   "source": []
  }
 ],
 "metadata": {
  "kernelspec": {
   "display_name": "Python 3 (ipykernel)",
   "language": "python",
   "name": "python3"
  },
  "language_info": {
   "codemirror_mode": {
    "name": "ipython",
    "version": 3
   },
   "file_extension": ".py",
   "mimetype": "text/x-python",
   "name": "python",
   "nbconvert_exporter": "python",
   "pygments_lexer": "ipython3",
   "version": "3.10.6"
  },
  "toc": {
   "base_numbering": 1,
   "nav_menu": {},
   "number_sections": true,
   "sideBar": true,
   "skip_h1_title": false,
   "title_cell": "Table of Contents",
   "title_sidebar": "Contents",
   "toc_cell": false,
   "toc_position": {},
   "toc_section_display": true,
   "toc_window_display": false
  }
 },
 "nbformat": 4,
 "nbformat_minor": 5
}
