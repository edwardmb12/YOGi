{
 "cells": [
  {
   "cell_type": "markdown",
   "id": "e355bf5e",
   "metadata": {},
   "source": [
    "# Imports"
   ]
  },
  {
   "cell_type": "code",
   "execution_count": 7,
   "id": "539a9a9d",
   "metadata": {},
   "outputs": [],
   "source": [
    "import matplotlib.pyplot as plt\n",
    "import random\n",
    "import os\n",
    "import numpy as np\n",
    "import cv2\n",
    "from tensorflow.keras.preprocessing.image import ImageDataGenerator\n",
    "from tensorflow.keras import utils, optimizers\n",
    "from PIL import Image\n",
    "import shutil\n",
    "from tensorflow.keras import models, layers\n",
    "from tensorflow.keras.applications import inception_v3\n",
    "from tensorflow.keras.callbacks import EarlyStopping\n",
    "from tensorflow.keras.applications import ResNet50\n",
    "from tensorflow.keras.applications import DenseNet169\n",
    "from tensorflow.keras.layers import Rescaling\n",
    "from tensorflow.image import resize\n",
    "from tensorflow.image import ResizeMethod\n",
    "from tensorflow.image import resize_with_pad # try both resize/resize with pad\n",
    "from tensorflow import reshape\n",
    "# from yogi import load_predict\n",
    "\n"
   ]
  },
  {
   "attachments": {},
   "cell_type": "markdown",
   "id": "0f74de36",
   "metadata": {},
   "source": [
    "# Scrapbook/testing"
   ]
  },
  {
   "attachments": {},
   "cell_type": "markdown",
   "id": "d48de206",
   "metadata": {},
   "source": [
    "# Image capture preprocess"
   ]
  },
  {
   "cell_type": "code",
   "execution_count": 8,
   "id": "b971d6e4",
   "metadata": {},
   "outputs": [],
   "source": [
    "chosen_file = \"../images/dfd_test.jpeg\"\n",
    "IMG_HEIGHT = 256\n",
    "IMG_WIDTH = 256"
   ]
  },
  {
   "cell_type": "code",
   "execution_count": 9,
   "id": "a0972bd9",
   "metadata": {},
   "outputs": [],
   "source": [
    "chosen_file = plt.imread(chosen_file)"
   ]
  },
  {
   "cell_type": "code",
   "execution_count": 10,
   "id": "b145d9c5",
   "metadata": {},
   "outputs": [],
   "source": [
    "def preprocess_image(image_input):\n",
    "    preproc_image = resize_with_pad(\n",
    "                                image_input,\n",
    "                                IMG_HEIGHT,\n",
    "                                IMG_WIDTH,\n",
    "                                method=ResizeMethod.LANCZOS3,\n",
    "                                )\n",
    "\n",
    "    preproc_image = preproc_image/255.0\n",
    "    preproc_image = reshape(preproc_image, (1, IMG_HEIGHT, IMG_WIDTH, 3))\n",
    "\n",
    "    return preproc_image"
   ]
  },
  {
   "cell_type": "code",
   "execution_count": 13,
   "id": "e719196c",
   "metadata": {},
   "outputs": [],
   "source": [
    "new_image = preprocess_image(chosen_file)"
   ]
  },
  {
   "attachments": {},
   "cell_type": "markdown",
   "id": "1e6bd5e9",
   "metadata": {},
   "source": [
    "# Load "
   ]
  },
  {
   "cell_type": "code",
   "execution_count": 34,
   "id": "88de886a",
   "metadata": {},
   "outputs": [],
   "source": [
    "from tensorflow.keras.models import load_model\n",
    "\n",
    "def loading_model():\n",
    "    model = load_model(\"../saved_models/model1\")\n",
    "\n",
    "    return model"
   ]
  },
  {
   "cell_type": "code",
   "execution_count": 35,
   "id": "448135f6",
   "metadata": {},
   "outputs": [],
   "source": [
    "model = loading_model()"
   ]
  },
  {
   "attachments": {},
   "cell_type": "markdown",
   "id": "16e0593e",
   "metadata": {},
   "source": [
    "# Predict"
   ]
  },
  {
   "cell_type": "code",
   "execution_count": 29,
   "id": "c08c5ccc",
   "metadata": {},
   "outputs": [],
   "source": [
    "POSES_LIST = ['.ipynb_checkpoints',\n",
    " 'Boat_Pose_or_Paripurna_Navasana_',\n",
    " 'Bound_Angle_Pose',\n",
    " 'Bow_Pose_or_Dhanurasana_',\n",
    " 'Bridge_Pose_or_Setu_Bandha_Sarvangasana_',\n",
    " 'Camel_Pose_or_Ustrasana_',\n",
    " 'Cat_Cow_Pose_or_Marjaryasana_',\n",
    " 'Cat_Pose',\n",
    " 'Chair_Pose_or_Utkatasana_',\n",
    " 'Child_Pose',\n",
    " 'Cobra_Pose_or_Bhujangasana_',\n",
    " 'Cockerel_Pose',\n",
    " 'Corpse_Pose_or_Savasana_',\n",
    " 'Cow_Face_Pose_or_Gomukhasana_',\n",
    " 'Cow_Pose',\n",
    " 'Crane_(Crow)_Pose',\n",
    " 'Downward-Facing_Dog_pose_or_Adho_Mukha_Svanasana_',\n",
    " 'Eagle_Pose_or_Garudasana_',\n",
    " 'Eight-Angle_Pose_or_Astavakrasana_',\n",
    " 'Extended_Puppy_Pose_or_Uttana_Shishosana_',\n",
    " 'Extended_Revolved_Side_Angle_Pose_or_Utthita_Parsvakonasana_Twist',\n",
    " 'Extended_Revolved_Side_Angle_Pose_or_Utthita_Parsvakonasana_Untwist',\n",
    " 'Extended_Revolved_Triangle_Pose_or_Utthita_Trikonasana_',\n",
    " 'Feathered_Peacock_Pose_or_Pincha_Mayurasana_',\n",
    " 'Firefly_Pose_or_Tittibhasana_',\n",
    " 'Fish_Pose_or_Matsyasana_',\n",
    " 'Four-Limbed_Staff',\n",
    " 'Frog_Pose_or_Bhekasana',\n",
    " 'Garland_Pose_or_Malasana_',\n",
    " 'Gate_Pose_or_Parighasana_',\n",
    " 'Half_Lord_of_the_Fishes_Pose_or_Ardha_Matsyendrasana_',\n",
    " 'Half_Moon_Pose_or_Ardha_Chandrasana_',\n",
    " 'Handstand_pose_or_Adho_Mukha_Vrksasana_',\n",
    " 'Happy_Baby_Pose_or_Ananda_Balasana_',\n",
    " 'Head-to-Knee_Forward_Bend_pose_or_Janu_Sirsasana_',\n",
    " 'Heron_Pose_or_Krounchasana_',\n",
    " 'Intense_Side_Stretch_Pose_or_Parsvottanasana_',\n",
    " 'Legs-Up-the-Wall_Pose_or_Viparita_Karani_',\n",
    " 'Locust_Pose_or_Salabhasana_',\n",
    " 'Lotus_pose_padmasana',\n",
    " 'Low_Lunge_pose_or_Anjaneyasana_',\n",
    " 'Peacock_Pose_or_Mayurasana_',\n",
    " 'Pigeon_Pose_or_Kapotasana_',\n",
    " 'Plank_Pose_or_Kumbhakasana_',\n",
    " 'Plow_Pose_or_Halasana_',\n",
    " 'Pose_Dedicated_to_the_Sage_Koundinya_or_Eka_Pada_Koundinyanasana_I_and_II',\n",
    " 'Rajakapotasana',\n",
    " 'Reclining_Hand-to-Big-Toe_Pose_or_Supta_Padangusthasana_',\n",
    " 'Reverse_warrior_pose_or_viparita_virabhadrasana',\n",
    " 'Revolved_Head-to-Knee_Pose_or_Parivrtta_Janu_Sirsasana_',\n",
    " 'Scale_Pose_or_Tolasana_',\n",
    " 'Scorpion_pose_or_vrischikasana',\n",
    " 'Seated_Forward_Bend_pose_or_Paschimottanasana_',\n",
    " 'Shoulder-Pressing_Pose_or_Bhujapidasana_',\n",
    " 'Side-Reclining_Leg_Lift_pose_or_Anantasana_',\n",
    " 'Side_Crane_(Crow)_Pose_or_Parsva_Bakasana_',\n",
    " 'Side_Plank_Pose_or_Vasisthasana_',\n",
    " 'Sitting_pose_1_(normal)',\n",
    " 'Split_pose',\n",
    " 'Staff_Pose_',\n",
    " 'Standing_Forward_Bend_pose_or_Uttanasana_',\n",
    " 'Standing_Split_pose_or_Urdhva_Prasarita_Eka_Padasana_',\n",
    " 'Standing_big_toe_hold_pose_or_Utthita_Padangusthasana',\n",
    " 'Supported_Headstand_pose_or_Salamba_Sirsasana_',\n",
    " 'Supported_Shoulderstand_pose_or_Salamba_Sarvangasana_',\n",
    " 'Supta_Baddha_Konasana_',\n",
    " 'Supta_Virasana_Vajrasana',\n",
    " 'Tortoise_Pose',\n",
    " 'Tree_Pose_or_Vrksasana_',\n",
    " 'Two_legged_inverted_staff_pose_or_dwi_pada_viparita_dandasana',\n",
    " 'Upward_Bow_(Wheel)_Pose_or_Urdhva_Dhanurasana_',\n",
    " 'Upward_Facing_Two-Foot_Staff_Pose_or_Dwi_Pada_Viparita_Dandasana_',\n",
    " 'Upward_Plank_Pose_or_Purvottanasana_',\n",
    " 'Upward_facing_dog_urdhva_mukha_svanasana',\n",
    " 'Virasana_or_Vajrasana',\n",
    " 'Warrior_III_Pose_or_Virabhadrasana_III_',\n",
    " 'Warrior_II_Pose_or_Virabhadrasana_II_',\n",
    " 'Warrior_I_Pose_or_Virabhadrasana_I_',\n",
    " 'Wide-Angle_Seated_Forward_Bend_pose_or_Upavistha_Konasana_',\n",
    " 'Wide-Legged_Forward_Bend_pose_or_Prasarita_Padottanasana_',\n",
    " 'Wild_Thing_pose_or_Camatkarasana_',\n",
    " 'Wind_Relieving_pose_or_Pawanmuktasana',\n",
    " 'Yogic_sleep_pose_or_Yoganidrasana']"
   ]
  },
  {
   "cell_type": "code",
   "execution_count": 36,
   "id": "c78e04e4",
   "metadata": {},
   "outputs": [],
   "source": [
    "def pred(model, preprocessed_image):\n",
    "    y_pred = model.predict(preprocessed_image)\n",
    "\n",
    "    return POSES_LIST[y_pred.argmax()], y_pred.max()"
   ]
  },
  {
   "cell_type": "code",
   "execution_count": 38,
   "id": "d23dd43c",
   "metadata": {},
   "outputs": [
    {
     "name": "stdout",
     "output_type": "stream",
     "text": [
      "WARNING:tensorflow:6 out of the last 6 calls to <function Model.make_predict_function.<locals>.predict_function at 0x3833b5000> triggered tf.function retracing. Tracing is expensive and the excessive number of tracings could be due to (1) creating @tf.function repeatedly in a loop, (2) passing tensors with different shapes, (3) passing Python objects instead of tensors. For (1), please define your @tf.function outside of the loop. For (2), @tf.function has reduce_retracing=True option that can avoid unnecessary retracing. For (3), please refer to https://www.tensorflow.org/guide/function#controlling_retracing and https://www.tensorflow.org/api_docs/python/tf/function for  more details.\n",
      "1/1 [==============================] - 1s 1s/step\n"
     ]
    },
    {
     "data": {
      "text/plain": [
       "('Downward-Facing_Dog_pose_or_Adho_Mukha_Svanasana_', 0.8953546)"
      ]
     },
     "execution_count": 38,
     "metadata": {},
     "output_type": "execute_result"
    }
   ],
   "source": [
    "pred(model,new_image)"
   ]
  },
  {
   "cell_type": "code",
   "execution_count": null,
   "id": "56fdcc76",
   "metadata": {},
   "outputs": [],
   "source": []
  }
 ],
 "metadata": {
  "kernelspec": {
   "display_name": "Python 3 (ipykernel)",
   "language": "python",
   "name": "python3"
  },
  "language_info": {
   "codemirror_mode": {
    "name": "ipython",
    "version": 3
   },
   "file_extension": ".py",
   "mimetype": "text/x-python",
   "name": "python",
   "nbconvert_exporter": "python",
   "pygments_lexer": "ipython3",
   "version": "3.10.6"
  },
  "toc": {
   "base_numbering": 1,
   "nav_menu": {},
   "number_sections": true,
   "sideBar": true,
   "skip_h1_title": false,
   "title_cell": "Table of Contents",
   "title_sidebar": "Contents",
   "toc_cell": false,
   "toc_position": {},
   "toc_section_display": true,
   "toc_window_display": false
  }
 },
 "nbformat": 4,
 "nbformat_minor": 5
}
