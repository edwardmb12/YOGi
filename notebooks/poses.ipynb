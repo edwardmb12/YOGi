{
 "cells": [
  {
   "cell_type": "code",
   "execution_count": 1,
   "metadata": {},
   "outputs": [],
   "source": [
    "POSES_LIST = ['.ipynb_checkpoints',\n",
    " 'Boat_Pose_or_Paripurna_Navasana_',\n",
    " 'Bound_Angle_Pose',\n",
    " 'Bow_Pose_or_Dhanurasana_',\n",
    " 'Bridge_Pose_or_Setu_Bandha_Sarvangasana_',\n",
    " 'Camel_Pose_or_Ustrasana_',\n",
    " 'Cat_Cow_Pose_or_Marjaryasana_',\n",
    " 'Cat_Pose',\n",
    " 'Chair_Pose_or_Utkatasana_',\n",
    " 'Child_Pose',\n",
    " 'Cobra_Pose_or_Bhujangasana_',\n",
    " 'Cockerel_Pose',\n",
    " 'Corpse_Pose_or_Savasana_',\n",
    " 'Cow_Face_Pose_or_Gomukhasana_',\n",
    " 'Cow_Pose',\n",
    " 'Crane_(Crow)_Pose',\n",
    " 'Downward-Facing_Dog_pose_or_Adho_Mukha_Svanasana_',\n",
    " 'Eagle_Pose_or_Garudasana_',\n",
    " 'Eight-Angle_Pose_or_Astavakrasana_',\n",
    " 'Extended_Puppy_Pose_or_Uttana_Shishosana_',\n",
    " 'Extended_Revolved_Side_Angle_Pose_or_Utthita_Parsvakonasana_Twist',\n",
    " 'Extended_Revolved_Side_Angle_Pose_or_Utthita_Parsvakonasana_Untwist',\n",
    " 'Extended_Revolved_Triangle_Pose_or_Utthita_Trikonasana_',\n",
    " 'Feathered_Peacock_Pose_or_Pincha_Mayurasana_',\n",
    " 'Firefly_Pose_or_Tittibhasana_',\n",
    " 'Fish_Pose_or_Matsyasana_',\n",
    " 'Four-Limbed_Staff',\n",
    " 'Frog_Pose_or_Bhekasana',\n",
    " 'Garland_Pose_or_Malasana_',\n",
    " 'Gate_Pose_or_Parighasana_',\n",
    " 'Half_Lord_of_the_Fishes_Pose_or_Ardha_Matsyendrasana_',\n",
    " 'Half_Moon_Pose_or_Ardha_Chandrasana_',\n",
    " 'Handstand_pose_or_Adho_Mukha_Vrksasana_',\n",
    " 'Happy_Baby_Pose_or_Ananda_Balasana_',\n",
    " 'Head-to-Knee_Forward_Bend_pose_or_Janu_Sirsasana_',\n",
    " 'Heron_Pose_or_Krounchasana_',\n",
    " 'Intense_Side_Stretch_Pose_or_Parsvottanasana_',\n",
    " 'Legs-Up-the-Wall_Pose_or_Viparita_Karani_',\n",
    " 'Locust_Pose_or_Salabhasana_',\n",
    " 'Lotus_pose_padmasana',\n",
    " 'Low_Lunge_pose_or_Anjaneyasana_',\n",
    " 'Peacock_Pose_or_Mayurasana_',\n",
    " 'Pigeon_Pose_or_Kapotasana_',\n",
    " 'Plank_Pose_or_Kumbhakasana_',\n",
    " 'Plow_Pose_or_Halasana_',\n",
    " 'Pose_Dedicated_to_the_Sage_Koundinya_or_Eka_Pada_Koundinyanasana_I_and_II',\n",
    " 'Rajakapotasana',\n",
    " 'Reclining_Hand-to-Big-Toe_Pose_or_Supta_Padangusthasana_',\n",
    " 'Reverse_warrior_pose_or_viparita_virabhadrasana',\n",
    " 'Revolved_Head-to-Knee_Pose_or_Parivrtta_Janu_Sirsasana_',\n",
    " 'Scale_Pose_or_Tolasana_',\n",
    " 'Scorpion_pose_or_vrischikasana',\n",
    " 'Seated_Forward_Bend_pose_or_Paschimottanasana_',\n",
    " 'Shoulder-Pressing_Pose_or_Bhujapidasana_',\n",
    " 'Side-Reclining_Leg_Lift_pose_or_Anantasana_',\n",
    " 'Side_Crane_(Crow)_Pose_or_Parsva_Bakasana_',\n",
    " 'Side_Plank_Pose_or_Vasisthasana_',\n",
    " 'Sitting_pose_1_(normal)',\n",
    " 'Split_pose',\n",
    " 'Staff_Pose_',\n",
    " 'Standing_Forward_Bend_pose_or_Uttanasana_',\n",
    " 'Standing_Split_pose_or_Urdhva_Prasarita_Eka_Padasana_',\n",
    " 'Standing_big_toe_hold_pose_or_Utthita_Padangusthasana',\n",
    " 'Supported_Headstand_pose_or_Salamba_Sirsasana_',\n",
    " 'Supported_Shoulderstand_pose_or_Salamba_Sarvangasana_',\n",
    " 'Supta_Baddha_Konasana_',\n",
    " 'Supta_Virasana_Vajrasana',\n",
    " 'Tortoise_Pose',\n",
    " 'Tree_Pose_or_Vrksasana_',\n",
    " 'Two_legged_inverted_staff_pose_or_dwi_pada_viparita_dandasana',\n",
    " 'Upward_Bow_(Wheel)_Pose_or_Urdhva_Dhanurasana_',\n",
    " 'Upward_Facing_Two-Foot_Staff_Pose_or_Dwi_Pada_Viparita_Dandasana_',\n",
    " 'Upward_Plank_Pose_or_Purvottanasana_',\n",
    " 'Upward_facing_dog_urdhva_mukha_svanasana',\n",
    " 'Virasana_or_Vajrasana',\n",
    " 'Warrior_III_Pose_or_Virabhadrasana_III_',\n",
    " 'Warrior_II_Pose_or_Virabhadrasana_II_',\n",
    " 'Warrior_I_Pose_or_Virabhadrasana_I_',\n",
    " 'Wide-Angle_Seated_Forward_Bend_pose_or_Upavistha_Konasana_',\n",
    " 'Wide-Legged_Forward_Bend_pose_or_Prasarita_Padottanasana_',\n",
    " 'Wild_Thing_pose_or_Camatkarasana_',\n",
    " 'Wind_Relieving_pose_or_Pawanmuktasana',\n",
    " 'Yogic_sleep_pose_or_Yoganidrasana']"
   ]
  },
  {
   "cell_type": "code",
   "execution_count": 2,
   "metadata": {},
   "outputs": [
    {
     "data": {
      "text/plain": [
       "'Bound_Angle_Pose'"
      ]
     },
     "execution_count": 2,
     "metadata": {},
     "output_type": "execute_result"
    }
   ],
   "source": [
    "poses_list[2]"
   ]
  },
  {
   "cell_type": "code",
   "execution_count": null,
   "metadata": {},
   "outputs": [],
   "source": []
  }
 ],
 "metadata": {
  "kernelspec": {
   "display_name": "YOGi",
   "language": "python",
   "name": "python3"
  },
  "language_info": {
   "codemirror_mode": {
    "name": "ipython",
    "version": 3
   },
   "file_extension": ".py",
   "mimetype": "text/x-python",
   "name": "python",
   "nbconvert_exporter": "python",
   "pygments_lexer": "ipython3",
   "version": "3.10.6"
  },
  "orig_nbformat": 4
 },
 "nbformat": 4,
 "nbformat_minor": 2
}
