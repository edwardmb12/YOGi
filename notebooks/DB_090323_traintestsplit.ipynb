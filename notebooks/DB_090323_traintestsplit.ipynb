{
 "cells": [
  {
   "cell_type": "markdown",
   "id": "fdac551c",
   "metadata": {},
   "source": [
    "# Imports"
   ]
  },
  {
   "cell_type": "code",
   "execution_count": null,
   "id": "0c3be9b8",
   "metadata": {},
   "outputs": [],
   "source": [
    "import matplotlib.pyplot as plt\n",
    "import random\n",
    "import os\n",
    "import numpy as np\n",
    "import cv2\n",
    "from tensorflow.keras.preprocessing.image import ImageDataGenerator\n",
    "from tensorflow.keras import utils, optimizers\n",
    "from PIL import Image\n",
    "import shutil\n",
    "from tensorflow.keras import models, layers\n",
    "from tensorflow.keras.applications import vgg16\n",
    "from tensorflow.keras.callbacks import EarlyStopping"
   ]
  },
  {
   "cell_type": "markdown",
   "id": "55947f53",
   "metadata": {},
   "source": [
    "# Creating subdirectories for train/test split"
   ]
  },
  {
   "cell_type": "code",
   "execution_count": null,
   "id": "443a4a36",
   "metadata": {},
   "outputs": [],
   "source": [
    "root_dir = '../raw_data'\n",
    "poses_list = os.listdir(root_dir) #Lists all folders in the root directory (raw_data folder)\n",
    "poses_list"
   ]
  },
  {
   "cell_type": "code",
   "execution_count": null,
   "id": "c5c6527e",
   "metadata": {},
   "outputs": [],
   "source": [
    "# Creates Testing and Training directories\n",
    "def create_train_val_dirs(root_path):\n",
    "    for pose in poses_list:\n",
    "        if pose == \"Testing\" or pose == \"Training\":\n",
    "            pass\n",
    "        else:\n",
    "            os.makedirs(os.path.join(root_path, 'Training', pose))\n",
    "            os.makedirs(os.path.join(root_path, 'Testing', pose))\n",
    "            \n",
    "            \n",
    "#Tries to create new directories\n",
    "#Errors if Training/Testing directories already exist - delete them before running this notebook!\n",
    "try:\n",
    "    create_train_val_dirs(root_path=root_dir)\n",
    "except FileExistsError:\n",
    "    print(\"You should not be seeing this since the upper directory is removed beforehand\")"
   ]
  },
  {
   "cell_type": "code",
   "execution_count": null,
   "id": "1248f6ca",
   "metadata": {},
   "outputs": [],
   "source": [
    "def split_data(SOURCE_DIR, TRAINING_DIR, VALIDATION_DIR, SPLIT_SIZE):\n",
    "    \"\"\"Function to split the data into train/test\n",
    "    First checks that the image exists in the folder - this is a safety net for any images which don't exist that we missed when manually checking images \n",
    "    Creates a list of all images and randomises them\n",
    "    Splits into train test depending on split size (defined below)\n",
    "    Copies all the train images into train folder and vice versa\n",
    "    \"\"\"\n",
    "    \n",
    "    ignore = []\n",
    "    for image in os.listdir(SOURCE_DIR):\n",
    "        if type(cv2.imread(os.path.join(SOURCE_DIR, image))) is type(None):\n",
    "            ignore.append(image)\n",
    "    \n",
    "    source_images = [image for image in os.listdir(SOURCE_DIR) if image not in ignore]\n",
    "    # Randomising list\n",
    "    source_images = random.sample(source_images, len(source_images))\n",
    "    \n",
    "    train_images = source_images[:int(SPLIT_SIZE * len(source_images))]\n",
    "    val_images = source_images[int(SPLIT_SIZE * len(source_images)):]\n",
    "    for image in train_images:\n",
    "        shutil.copyfile(os.path.join(SOURCE_DIR, image), os.path.join(TRAINING_DIR, image))\n",
    "    for image in val_images:\n",
    "        shutil.copyfile(os.path.join(SOURCE_DIR, image), os.path.join(VALIDATION_DIR, image))\n",
    "        "
   ]
  },
  {
   "cell_type": "code",
   "execution_count": null,
   "id": "20849c40",
   "metadata": {},
   "outputs": [],
   "source": [
    "split_size = 0.7\n",
    "\n",
    "#Loops over all the poses, defines the directories for source/train/test\n",
    "#Splits the data into train/test\n",
    "#Prints how many images are in train/test and in the original directory - sanity check!\n",
    "\n",
    "for pose in poses_list:\n",
    "    if pose == \"Training\" or pose == \"Testing\":\n",
    "        pass\n",
    "    else:\n",
    "        SOURCE_DIR = f\"{root_dir}/{pose}\"\n",
    "        TRAINING_DIR = f\"{root_dir}/Training/{pose}\"\n",
    "        TESTING_DIR = f\"{root_dir}/Testing/{pose}\"    \n",
    "        split_data(SOURCE_DIR, TRAINING_DIR, TESTING_DIR, split_size)\n",
    "\n",
    "        print(f\"There are {len(os.listdir(TRAINING_DIR))} images for {pose} in training\")\n",
    "        print(f\"There are {len(os.listdir(TESTING_DIR))} images for {pose} in testing\")\n",
    "\n",
    "        print(f\"Original {pose}'s directory has {len(os.listdir(SOURCE_DIR))} images\\n\")"
   ]
  }
 ],
 "metadata": {
  "kernelspec": {
   "display_name": "Python 3 (ipykernel)",
   "language": "python",
   "name": "python3"
  },
  "language_info": {
   "codemirror_mode": {
    "name": "ipython",
    "version": 3
   },
   "file_extension": ".py",
   "mimetype": "text/x-python",
   "name": "python",
   "nbconvert_exporter": "python",
   "pygments_lexer": "ipython3",
   "version": "3.10.6"
  },
  "toc": {
   "base_numbering": 1,
   "nav_menu": {},
   "number_sections": true,
   "sideBar": true,
   "skip_h1_title": false,
   "title_cell": "Table of Contents",
   "title_sidebar": "Contents",
   "toc_cell": false,
   "toc_position": {},
   "toc_section_display": true,
   "toc_window_display": false
  }
 },
 "nbformat": 4,
 "nbformat_minor": 5
}
