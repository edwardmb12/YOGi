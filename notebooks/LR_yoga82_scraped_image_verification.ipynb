{
 "cells": [
  {
   "cell_type": "markdown",
   "id": "22767dbf-1cd1-4e56-9f95-9eab7cd36d7f",
   "metadata": {},
   "source": [
    "# Imports"
   ]
  },
  {
   "cell_type": "code",
   "execution_count": 1,
   "id": "2a9c8c26-b8a3-4cf5-a34b-2d3555314169",
   "metadata": {},
   "outputs": [],
   "source": [
    "import os\n",
    "from os import listdir\n",
    "from os.path import isfile, join\n",
    "\n",
    "import requests\n",
    "from PIL import Image\n",
    "\n",
    "import pandas as pd"
   ]
  },
  {
   "cell_type": "markdown",
   "id": "b06bc3a9-b30d-4f15-8730-46f5b8ded373",
   "metadata": {},
   "source": [
    "# Source Files"
   ]
  },
  {
   "cell_type": "code",
   "execution_count": 2,
   "id": "45c9b6f8-3678-4fad-8961-e74bb6549198",
   "metadata": {},
   "outputs": [],
   "source": [
    "# Source Params\n",
    "\n",
    "cwd_path = os.getcwd()\n",
    "rel_path = '../raw_data/Yoga-82/yoga_dataset_links'\n",
    "my_path = os.path.join(cwd_path, rel_path)\n",
    "\n",
    "\n",
    "files = [f'{my_path}/{f}' for f in listdir(my_path) if f.endswith('.txt')]"
   ]
  },
  {
   "cell_type": "code",
   "execution_count": 3,
   "id": "ece230d1-b13a-4c54-8b88-9a5604f34b92",
   "metadata": {},
   "outputs": [
    {
     "data": {
      "text/plain": [
       "'/home/lscr/code/2023-q1-wagon/2023-q1-projects/YOGi/notebooks/../raw_data/Yoga-82/yoga_dataset_links'"
      ]
     },
     "execution_count": 3,
     "metadata": {},
     "output_type": "execute_result"
    }
   ],
   "source": [
    "my_path"
   ]
  },
  {
   "cell_type": "markdown",
   "id": "de3a2995-c6d8-4812-8837-207287991f66",
   "metadata": {},
   "source": [
    "# Load Master CSV"
   ]
  },
  {
   "cell_type": "code",
   "execution_count": 5,
   "id": "0edc4ea2-908b-42cc-9728-1585c0a4bde3",
   "metadata": {},
   "outputs": [
    {
     "data": {
      "text/plain": [
       "(28450, 4)"
      ]
     },
     "execution_count": 5,
     "metadata": {},
     "output_type": "execute_result"
    }
   ],
   "source": [
    "df = pd.read_csv('../raw_data/images/yoga-82_scraping.csv')\n",
    "df.shape"
   ]
  },
  {
   "cell_type": "code",
   "execution_count": 7,
   "id": "4edf6197-e3ee-445c-b226-2a2ee055b4ab",
   "metadata": {},
   "outputs": [
    {
     "data": {
      "text/html": [
       "<div>\n",
       "<style scoped>\n",
       "    .dataframe tbody tr th:only-of-type {\n",
       "        vertical-align: middle;\n",
       "    }\n",
       "\n",
       "    .dataframe tbody tr th {\n",
       "        vertical-align: top;\n",
       "    }\n",
       "\n",
       "    .dataframe thead th {\n",
       "        text-align: right;\n",
       "    }\n",
       "</style>\n",
       "<table border=\"1\" class=\"dataframe\">\n",
       "  <thead>\n",
       "    <tr style=\"text-align: right;\">\n",
       "      <th></th>\n",
       "      <th>class</th>\n",
       "      <th>image_name</th>\n",
       "      <th>url</th>\n",
       "      <th>success</th>\n",
       "    </tr>\n",
       "  </thead>\n",
       "  <tbody>\n",
       "    <tr>\n",
       "      <th>0</th>\n",
       "      <td>Reclining_Hand-to-Big-Toe_Pose_or_Supta_Padang...</td>\n",
       "      <td>657.jpg</td>\n",
       "      <td>http://lesliesaglio.com/wp-content/uploads/201...</td>\n",
       "      <td>0</td>\n",
       "    </tr>\n",
       "    <tr>\n",
       "      <th>1</th>\n",
       "      <td>Reclining_Hand-to-Big-Toe_Pose_or_Supta_Padang...</td>\n",
       "      <td>643.jpg</td>\n",
       "      <td>https://s-media-cache-ak0.pinimg.com/736x/36/a...</td>\n",
       "      <td>1</td>\n",
       "    </tr>\n",
       "    <tr>\n",
       "      <th>2</th>\n",
       "      <td>Reclining_Hand-to-Big-Toe_Pose_or_Supta_Padang...</td>\n",
       "      <td>640.jpg</td>\n",
       "      <td>http://static.squarespace.com/static/5387efd9e...</td>\n",
       "      <td>1</td>\n",
       "    </tr>\n",
       "    <tr>\n",
       "      <th>3</th>\n",
       "      <td>Reclining_Hand-to-Big-Toe_Pose_or_Supta_Padang...</td>\n",
       "      <td>623.jpg</td>\n",
       "      <td>https://www.melissawest.com/wp-content/uploads...</td>\n",
       "      <td>1</td>\n",
       "    </tr>\n",
       "    <tr>\n",
       "      <th>4</th>\n",
       "      <td>Reclining_Hand-to-Big-Toe_Pose_or_Supta_Padang...</td>\n",
       "      <td>615.jpg</td>\n",
       "      <td>https://www.melissawest.com/wp-content/uploads...</td>\n",
       "      <td>1</td>\n",
       "    </tr>\n",
       "  </tbody>\n",
       "</table>\n",
       "</div>"
      ],
      "text/plain": [
       "                                               class image_name  \\\n",
       "0  Reclining_Hand-to-Big-Toe_Pose_or_Supta_Padang...    657.jpg   \n",
       "1  Reclining_Hand-to-Big-Toe_Pose_or_Supta_Padang...    643.jpg   \n",
       "2  Reclining_Hand-to-Big-Toe_Pose_or_Supta_Padang...    640.jpg   \n",
       "3  Reclining_Hand-to-Big-Toe_Pose_or_Supta_Padang...    623.jpg   \n",
       "4  Reclining_Hand-to-Big-Toe_Pose_or_Supta_Padang...    615.jpg   \n",
       "\n",
       "                                                 url  success  \n",
       "0  http://lesliesaglio.com/wp-content/uploads/201...        0  \n",
       "1  https://s-media-cache-ak0.pinimg.com/736x/36/a...        1  \n",
       "2  http://static.squarespace.com/static/5387efd9e...        1  \n",
       "3  https://www.melissawest.com/wp-content/uploads...        1  \n",
       "4  https://www.melissawest.com/wp-content/uploads...        1  "
      ]
     },
     "execution_count": 7,
     "metadata": {},
     "output_type": "execute_result"
    }
   ],
   "source": []
  },
  {
   "cell_type": "markdown",
   "id": "d36f0665-8f59-4350-b6a0-16d786abedf1",
   "metadata": {},
   "source": [
    "# Checking Each Image that has been downloaded"
   ]
  },
  {
   "cell_type": "code",
   "execution_count": 62,
   "id": "948fc104-1949-4764-b9c2-927cf0cb185f",
   "metadata": {},
   "outputs": [],
   "source": [
    "from PIL import Image"
   ]
  },
  {
   "cell_type": "code",
   "execution_count": 66,
   "id": "9f368914-2438-4043-9b73-5dba4b2e7792",
   "metadata": {},
   "outputs": [
    {
     "name": "stdout",
     "output_type": "stream",
     "text": [
      "Broken\n"
     ]
    }
   ],
   "source": [
    "try:\n",
    "    im = Image.open(f'{abs_save_root_path}/Akarna_Dhanurasana/0_151.jpg')\n",
    "except IOError:\n",
    "    print('Broken')"
   ]
  },
  {
   "cell_type": "code",
   "execution_count": 64,
   "id": "50b62709-8e3b-4af8-bd5b-30453f1260db",
   "metadata": {},
   "outputs": [
    {
     "data": {
      "text/plain": [
       "'WEBP'"
      ]
     },
     "execution_count": 64,
     "metadata": {},
     "output_type": "execute_result"
    }
   ],
   "source": [
    "im.format"
   ]
  },
  {
   "cell_type": "code",
   "execution_count": 65,
   "id": "4faccd9c-5c8d-4a5b-bc71-87bb657f8ee9",
   "metadata": {},
   "outputs": [],
   "source": [
    "im.show()"
   ]
  },
  {
   "cell_type": "code",
   "execution_count": 8,
   "id": "ff267cd2-e4fb-4e63-bcdd-6a98657dedc2",
   "metadata": {},
   "outputs": [
    {
     "data": {
      "text/plain": [
       "'/home/lscr/code/2023-q1-wagon/2023-q1-projects/YOGi/notebooks/../raw_data/images/'"
      ]
     },
     "execution_count": 8,
     "metadata": {},
     "output_type": "execute_result"
    }
   ],
   "source": [
    "image_rel_root_path = '../raw_data/images/'\n",
    "image_root_path = os.path.join(cwd_path, image_rel_root_path)\n",
    "\n",
    "image_root_path"
   ]
  },
  {
   "cell_type": "code",
   "execution_count": 16,
   "id": "40843b04-eaee-4882-af1f-91e718dc0637",
   "metadata": {},
   "outputs": [
    {
     "name": "stdout",
     "output_type": "stream",
     "text": [
      "/home/lscr/code/2023-q1-wagon/2023-q1-projects/YOGi/notebooks/../raw_data/images/Feathered_Peacock_Pose_or_Pincha_Mayurasana_\n",
      "/home/lscr/code/2023-q1-wagon/2023-q1-projects/YOGi/notebooks/../raw_data/images/Noose_Pose_or_Pasasana_\n",
      "/home/lscr/code/2023-q1-wagon/2023-q1-projects/YOGi/notebooks/../raw_data/images/Supported_Headstand_pose_or_Salamba_Sirsasana_\n"
     ]
    }
   ],
   "source": [
    "# get all files within subfolders\n",
    "\n",
    "for pose_folder in listdir(image_root_path)[:3]:\n",
    "    folder_path = os.path.join(image_root_path, pose_folder)\n",
    "    print(folder_path)\n",
    "    # files_in_folder = [f'{pose_folder}/{f}' for f in listdir(os.path.join()) if f.endswith('.txt')]"
   ]
  },
  {
   "cell_type": "code",
   "execution_count": null,
   "id": "24004cc9-8e7b-45bc-b80f-073ce481a918",
   "metadata": {},
   "outputs": [],
   "source": []
  },
  {
   "cell_type": "code",
   "execution_count": null,
   "id": "a2422d5f-ab6d-44f6-8b67-500963213dd5",
   "metadata": {},
   "outputs": [],
   "source": []
  },
  {
   "cell_type": "code",
   "execution_count": null,
   "id": "c540b766-1133-4a5c-a7cd-bb38868b486e",
   "metadata": {},
   "outputs": [],
   "source": []
  },
  {
   "cell_type": "code",
   "execution_count": null,
   "id": "958e24d5-7575-4462-b139-de019285e2c0",
   "metadata": {},
   "outputs": [],
   "source": []
  },
  {
   "cell_type": "code",
   "execution_count": null,
   "id": "ba640c0a-acc1-4f81-8d3d-2663a534e05b",
   "metadata": {},
   "outputs": [],
   "source": []
  }
 ],
 "metadata": {
  "kernelspec": {
   "display_name": "Python 3 (ipykernel)",
   "language": "python",
   "name": "python3"
  },
  "language_info": {
   "codemirror_mode": {
    "name": "ipython",
    "version": 3
   },
   "file_extension": ".py",
   "mimetype": "text/x-python",
   "name": "python",
   "nbconvert_exporter": "python",
   "pygments_lexer": "ipython3",
   "version": "3.10.6"
  }
 },
 "nbformat": 4,
 "nbformat_minor": 5
}
