{
 "cells": [
  {
   "cell_type": "markdown",
   "id": "22767dbf-1cd1-4e56-9f95-9eab7cd36d7f",
   "metadata": {},
   "source": [
    "# Imports"
   ]
  },
  {
   "cell_type": "code",
   "execution_count": 1,
   "id": "2a9c8c26-b8a3-4cf5-a34b-2d3555314169",
   "metadata": {},
   "outputs": [],
   "source": [
    "import os\n",
    "from os import listdir\n",
    "from os.path import isfile, join\n",
    "\n",
    "import requests\n",
    "from PIL import Image\n",
    "\n",
    "import pandas as pd"
   ]
  },
  {
   "cell_type": "markdown",
   "id": "de3a2995-c6d8-4812-8837-207287991f66",
   "metadata": {},
   "source": [
    "# Load Master CSV\n",
    "\n",
    "The output of the last script"
   ]
  },
  {
   "cell_type": "code",
   "execution_count": 2,
   "id": "782e6ac3-e699-42a6-ae28-74885eeafbbe",
   "metadata": {},
   "outputs": [
    {
     "data": {
      "text/plain": [
       "'/home/lscr/code/2023-q1-wagon/2023-q1-projects/YOGi/notebooks/../raw_data/images_v2/'"
      ]
     },
     "execution_count": 2,
     "metadata": {},
     "output_type": "execute_result"
    }
   ],
   "source": [
    "# Scraped image path params\n",
    "\n",
    "cwd_path = os.getcwd()\n",
    "image_rel_root_path = '../raw_data/scraped_images/' # This is important\n",
    "image_root_path = os.path.join(cwd_path, image_rel_root_path)\n",
    "\n",
    "image_root_path"
   ]
  },
  {
   "cell_type": "code",
   "execution_count": 3,
   "id": "0edc4ea2-908b-42cc-9728-1585c0a4bde3",
   "metadata": {},
   "outputs": [
    {
     "data": {
      "text/plain": [
       "(28450, 4)"
      ]
     },
     "execution_count": 3,
     "metadata": {},
     "output_type": "execute_result"
    }
   ],
   "source": [
    "# Load CSV with sweet scraping info\n",
    "df = pd.read_csv(f'{image_root_path}/yoga-82_scraping.csv')\n",
    "df.shape"
   ]
  },
  {
   "cell_type": "code",
   "execution_count": 4,
   "id": "4edf6197-e3ee-445c-b226-2a2ee055b4ab",
   "metadata": {},
   "outputs": [
    {
     "data": {
      "text/html": [
       "<div>\n",
       "<style scoped>\n",
       "    .dataframe tbody tr th:only-of-type {\n",
       "        vertical-align: middle;\n",
       "    }\n",
       "\n",
       "    .dataframe tbody tr th {\n",
       "        vertical-align: top;\n",
       "    }\n",
       "\n",
       "    .dataframe thead th {\n",
       "        text-align: right;\n",
       "    }\n",
       "</style>\n",
       "<table border=\"1\" class=\"dataframe\">\n",
       "  <thead>\n",
       "    <tr style=\"text-align: right;\">\n",
       "      <th></th>\n",
       "      <th>class</th>\n",
       "      <th>image_name</th>\n",
       "      <th>url</th>\n",
       "      <th>success</th>\n",
       "    </tr>\n",
       "  </thead>\n",
       "  <tbody>\n",
       "    <tr>\n",
       "      <th>0</th>\n",
       "      <td>Reclining_Hand-to-Big-Toe_Pose_or_Supta_Padang...</td>\n",
       "      <td>657.jpg</td>\n",
       "      <td>http://lesliesaglio.com/wp-content/uploads/201...</td>\n",
       "      <td>0</td>\n",
       "    </tr>\n",
       "    <tr>\n",
       "      <th>1</th>\n",
       "      <td>Reclining_Hand-to-Big-Toe_Pose_or_Supta_Padang...</td>\n",
       "      <td>643.jpg</td>\n",
       "      <td>https://s-media-cache-ak0.pinimg.com/736x/36/a...</td>\n",
       "      <td>1</td>\n",
       "    </tr>\n",
       "    <tr>\n",
       "      <th>2</th>\n",
       "      <td>Reclining_Hand-to-Big-Toe_Pose_or_Supta_Padang...</td>\n",
       "      <td>640.jpg</td>\n",
       "      <td>http://static.squarespace.com/static/5387efd9e...</td>\n",
       "      <td>1</td>\n",
       "    </tr>\n",
       "    <tr>\n",
       "      <th>3</th>\n",
       "      <td>Reclining_Hand-to-Big-Toe_Pose_or_Supta_Padang...</td>\n",
       "      <td>623.jpg</td>\n",
       "      <td>https://www.melissawest.com/wp-content/uploads...</td>\n",
       "      <td>1</td>\n",
       "    </tr>\n",
       "    <tr>\n",
       "      <th>4</th>\n",
       "      <td>Reclining_Hand-to-Big-Toe_Pose_or_Supta_Padang...</td>\n",
       "      <td>615.jpg</td>\n",
       "      <td>https://www.melissawest.com/wp-content/uploads...</td>\n",
       "      <td>1</td>\n",
       "    </tr>\n",
       "  </tbody>\n",
       "</table>\n",
       "</div>"
      ],
      "text/plain": [
       "                                               class image_name  \\\n",
       "0  Reclining_Hand-to-Big-Toe_Pose_or_Supta_Padang...    657.jpg   \n",
       "1  Reclining_Hand-to-Big-Toe_Pose_or_Supta_Padang...    643.jpg   \n",
       "2  Reclining_Hand-to-Big-Toe_Pose_or_Supta_Padang...    640.jpg   \n",
       "3  Reclining_Hand-to-Big-Toe_Pose_or_Supta_Padang...    623.jpg   \n",
       "4  Reclining_Hand-to-Big-Toe_Pose_or_Supta_Padang...    615.jpg   \n",
       "\n",
       "                                                 url  success  \n",
       "0  http://lesliesaglio.com/wp-content/uploads/201...        0  \n",
       "1  https://s-media-cache-ak0.pinimg.com/736x/36/a...        1  \n",
       "2  http://static.squarespace.com/static/5387efd9e...        1  \n",
       "3  https://www.melissawest.com/wp-content/uploads...        1  \n",
       "4  https://www.melissawest.com/wp-content/uploads...        1  "
      ]
     },
     "execution_count": 4,
     "metadata": {},
     "output_type": "execute_result"
    }
   ],
   "source": [
    "df.head()"
   ]
  },
  {
   "cell_type": "markdown",
   "id": "d36f0665-8f59-4350-b6a0-16d786abedf1",
   "metadata": {},
   "source": [
    "# Check if a file is able to be opened. If so, what extension does the file have.\n",
    "\n",
    "No point in checking links that we didn't get a response from"
   ]
  },
  {
   "cell_type": "code",
   "execution_count": 6,
   "id": "ff267cd2-e4fb-4e63-bcdd-6a98657dedc2",
   "metadata": {},
   "outputs": [
    {
     "data": {
      "text/plain": [
       "'/home/lscr/code/2023-q1-wagon/2023-q1-projects/YOGi/notebooks/../raw_data/images_v2/'"
      ]
     },
     "execution_count": 6,
     "metadata": {},
     "output_type": "execute_result"
    }
   ],
   "source": [
    "# Scraped image source params\n",
    "\n",
    "image_rel_root_path = '../raw_data/images_v2/' # This is important\n",
    "image_root_path = os.path.join(cwd_path, image_rel_root_path)\n",
    "\n",
    "image_root_path"
   ]
  },
  {
   "cell_type": "code",
   "execution_count": 7,
   "id": "9f368914-2438-4043-9b73-5dba4b2e7792",
   "metadata": {},
   "outputs": [],
   "source": [
    "# Testing on one hardcoded image\n",
    "try:\n",
    "    im = Image.open(f'{image_root_path}/Akarna_Dhanurasana/0_4.jpg')\n",
    "    if im.format != 'JPEG':\n",
    "        print(f'.{im.format}')\n",
    "except IOError:\n",
    "    print('Broken')"
   ]
  },
  {
   "cell_type": "code",
   "execution_count": 8,
   "id": "17407cdc-acfc-487a-8d15-dec0fbfe0ab2",
   "metadata": {},
   "outputs": [],
   "source": [
    "im.show()"
   ]
  },
  {
   "cell_type": "code",
   "execution_count": 9,
   "id": "50b62709-8e3b-4af8-bd5b-30453f1260db",
   "metadata": {},
   "outputs": [
    {
     "data": {
      "text/plain": [
       "'JPEG'"
      ]
     },
     "execution_count": 9,
     "metadata": {},
     "output_type": "execute_result"
    }
   ],
   "source": [
    "im.format"
   ]
  },
  {
   "cell_type": "markdown",
   "id": "b736a979-a25e-4ce8-904f-dfe7388451ed",
   "metadata": {},
   "source": [
    "# Validation Script"
   ]
  },
  {
   "cell_type": "code",
   "execution_count": 10,
   "id": "487efec5-a7d1-4832-9cfa-e4e018ef7941",
   "metadata": {},
   "outputs": [],
   "source": [
    "# Create new columns in frame for 'valid' and 'extension'\n",
    "\n",
    "df['valid'] = df['success']\n",
    "df['extension'] = 'broken'"
   ]
  },
  {
   "cell_type": "code",
   "execution_count": 11,
   "id": "1b35b21d-ce74-4acb-a839-3ebebf73bd31",
   "metadata": {},
   "outputs": [
    {
     "name": "stderr",
     "output_type": "stream",
     "text": [
      "/home/lscr/.pyenv/versions/3.10.6/envs/wagon-ta/lib/python3.10/site-packages/PIL/TiffImagePlugin.py:845: UserWarning: Truncated File Read\n",
      "  warnings.warn(str(msg))\n"
     ]
    }
   ],
   "source": [
    "# iterating through every row of the data frame\n",
    "io_count = 0\n",
    "file_count = 0\n",
    "for i, row in df.iterrows():\n",
    "    abs_img_path = os.path.join(image_root_path, row['class'], row['image_name'])\n",
    "    \n",
    "    # Check to see if image was downloaded\n",
    "    if row['success'] == 1:\n",
    "        \n",
    "        # Try to open image from file\n",
    "        try: \n",
    "            # Success\n",
    "            im = Image.open(abs_img_path) \n",
    "            \n",
    "            # Check extension of image, default is jpeg\n",
    "            if im.format != 'JPEG':\n",
    "                file_count += 1\n",
    "\n",
    "            # df.loc[i, 'valid'] = int(1)\n",
    "            df.loc[i, 'extension'] = im.format\n",
    "\n",
    "        except IOError: \n",
    "            # Fail\n",
    "            df.loc[i, 'valid'] = int(0)\n",
    "            df.loc[i, 'extension'] = 'broken'\n",
    "\n",
    "            io_count += 1\n",
    "\n",
    "        # print(f'{abs_image_path} is not valid.')\n",
    "        # row['valid'] = 0 "
   ]
  },
  {
   "cell_type": "code",
   "execution_count": 12,
   "id": "c540b766-1133-4a5c-a7cd-bb38868b486e",
   "metadata": {},
   "outputs": [],
   "source": [
    "df.valid = df.valid.astype('int')"
   ]
  },
  {
   "cell_type": "code",
   "execution_count": 21,
   "id": "456e4d8f-8022-46ac-ada6-04d071babf76",
   "metadata": {},
   "outputs": [
    {
     "data": {
      "text/plain": [
       "(21735, 19188, 2547)"
      ]
     },
     "execution_count": 21,
     "metadata": {},
     "output_type": "execute_result"
    }
   ],
   "source": [
    "# Fun numbers\n",
    "df.success.sum(), df.valid.sum(), df.success.sum() - df.valid.sum()"
   ]
  },
  {
   "cell_type": "code",
   "execution_count": 22,
   "id": "eddd3f0a-742a-475f-9de9-b2f46f1f4bc6",
   "metadata": {},
   "outputs": [
    {
     "data": {
      "text/plain": [
       "(1430, 2547)"
      ]
     },
     "execution_count": 22,
     "metadata": {},
     "output_type": "execute_result"
    }
   ],
   "source": [
    "# io_count is the same as success minus valid - this is good.\n",
    "file_count, io_count"
   ]
  },
  {
   "cell_type": "code",
   "execution_count": 27,
   "id": "2981b395-6989-40e3-ab62-de42e64201f7",
   "metadata": {},
   "outputs": [
    {
     "name": "stdout",
     "output_type": "stream",
     "text": [
      "1430 files are not .jpg and have the incorrect extension.\n",
      "2547 files are broken and can not be opened.\n",
      "19188 out of 28450 images are valid.\n",
      " 67.44% images are valid.\n"
     ]
    }
   ],
   "source": [
    "print(f'{file_count} files are not .jpg and have the incorrect extension.')\n",
    "print(f'{io_count} files are broken and can not be opened.')\n",
    "print(f'{df.valid.sum()} out of {df.shape[0]} images are valid.')\n",
    "print(f'{df.valid.sum() / df.shape[0] * 100: 0.2f}% images are valid.')"
   ]
  },
  {
   "cell_type": "code",
   "execution_count": 19,
   "id": "958e24d5-7575-4462-b139-de019285e2c0",
   "metadata": {},
   "outputs": [
    {
     "data": {
      "text/html": [
       "<div>\n",
       "<style scoped>\n",
       "    .dataframe tbody tr th:only-of-type {\n",
       "        vertical-align: middle;\n",
       "    }\n",
       "\n",
       "    .dataframe tbody tr th {\n",
       "        vertical-align: top;\n",
       "    }\n",
       "\n",
       "    .dataframe thead th {\n",
       "        text-align: right;\n",
       "    }\n",
       "</style>\n",
       "<table border=\"1\" class=\"dataframe\">\n",
       "  <thead>\n",
       "    <tr style=\"text-align: right;\">\n",
       "      <th></th>\n",
       "      <th>class</th>\n",
       "      <th>image_name</th>\n",
       "      <th>url</th>\n",
       "      <th>success</th>\n",
       "      <th>valid</th>\n",
       "      <th>extension</th>\n",
       "    </tr>\n",
       "  </thead>\n",
       "  <tbody>\n",
       "    <tr>\n",
       "      <th>0</th>\n",
       "      <td>Reclining_Hand-to-Big-Toe_Pose_or_Supta_Padang...</td>\n",
       "      <td>657.jpg</td>\n",
       "      <td>http://lesliesaglio.com/wp-content/uploads/201...</td>\n",
       "      <td>0</td>\n",
       "      <td>0</td>\n",
       "      <td>broken</td>\n",
       "    </tr>\n",
       "    <tr>\n",
       "      <th>1</th>\n",
       "      <td>Reclining_Hand-to-Big-Toe_Pose_or_Supta_Padang...</td>\n",
       "      <td>643.jpg</td>\n",
       "      <td>https://s-media-cache-ak0.pinimg.com/736x/36/a...</td>\n",
       "      <td>1</td>\n",
       "      <td>1</td>\n",
       "      <td>JPEG</td>\n",
       "    </tr>\n",
       "    <tr>\n",
       "      <th>2</th>\n",
       "      <td>Reclining_Hand-to-Big-Toe_Pose_or_Supta_Padang...</td>\n",
       "      <td>640.jpg</td>\n",
       "      <td>http://static.squarespace.com/static/5387efd9e...</td>\n",
       "      <td>1</td>\n",
       "      <td>1</td>\n",
       "      <td>JPEG</td>\n",
       "    </tr>\n",
       "    <tr>\n",
       "      <th>3</th>\n",
       "      <td>Reclining_Hand-to-Big-Toe_Pose_or_Supta_Padang...</td>\n",
       "      <td>623.jpg</td>\n",
       "      <td>https://www.melissawest.com/wp-content/uploads...</td>\n",
       "      <td>1</td>\n",
       "      <td>1</td>\n",
       "      <td>JPEG</td>\n",
       "    </tr>\n",
       "    <tr>\n",
       "      <th>4</th>\n",
       "      <td>Reclining_Hand-to-Big-Toe_Pose_or_Supta_Padang...</td>\n",
       "      <td>615.jpg</td>\n",
       "      <td>https://www.melissawest.com/wp-content/uploads...</td>\n",
       "      <td>1</td>\n",
       "      <td>1</td>\n",
       "      <td>JPEG</td>\n",
       "    </tr>\n",
       "  </tbody>\n",
       "</table>\n",
       "</div>"
      ],
      "text/plain": [
       "                                               class image_name  \\\n",
       "0  Reclining_Hand-to-Big-Toe_Pose_or_Supta_Padang...    657.jpg   \n",
       "1  Reclining_Hand-to-Big-Toe_Pose_or_Supta_Padang...    643.jpg   \n",
       "2  Reclining_Hand-to-Big-Toe_Pose_or_Supta_Padang...    640.jpg   \n",
       "3  Reclining_Hand-to-Big-Toe_Pose_or_Supta_Padang...    623.jpg   \n",
       "4  Reclining_Hand-to-Big-Toe_Pose_or_Supta_Padang...    615.jpg   \n",
       "\n",
       "                                                 url  success  valid extension  \n",
       "0  http://lesliesaglio.com/wp-content/uploads/201...        0      0    broken  \n",
       "1  https://s-media-cache-ak0.pinimg.com/736x/36/a...        1      1      JPEG  \n",
       "2  http://static.squarespace.com/static/5387efd9e...        1      1      JPEG  \n",
       "3  https://www.melissawest.com/wp-content/uploads...        1      1      JPEG  \n",
       "4  https://www.melissawest.com/wp-content/uploads...        1      1      JPEG  "
      ]
     },
     "execution_count": 19,
     "metadata": {},
     "output_type": "execute_result"
    }
   ],
   "source": [
    "df.head()"
   ]
  },
  {
   "cell_type": "code",
   "execution_count": 17,
   "id": "efea1c37-49ec-4c6a-9c16-68a8412853d9",
   "metadata": {},
   "outputs": [
    {
     "data": {
      "text/html": [
       "<div>\n",
       "<style scoped>\n",
       "    .dataframe tbody tr th:only-of-type {\n",
       "        vertical-align: middle;\n",
       "    }\n",
       "\n",
       "    .dataframe tbody tr th {\n",
       "        vertical-align: top;\n",
       "    }\n",
       "\n",
       "    .dataframe thead th {\n",
       "        text-align: right;\n",
       "    }\n",
       "</style>\n",
       "<table border=\"1\" class=\"dataframe\">\n",
       "  <thead>\n",
       "    <tr style=\"text-align: right;\">\n",
       "      <th></th>\n",
       "      <th>valid</th>\n",
       "    </tr>\n",
       "    <tr>\n",
       "      <th>class</th>\n",
       "      <th></th>\n",
       "    </tr>\n",
       "  </thead>\n",
       "  <tbody>\n",
       "    <tr>\n",
       "      <th>Akarna_Dhanurasana</th>\n",
       "      <td>86</td>\n",
       "    </tr>\n",
       "    <tr>\n",
       "      <th>Bharadvaja's_Twist_pose_or_Bharadvajasana_I_</th>\n",
       "      <td>82</td>\n",
       "    </tr>\n",
       "    <tr>\n",
       "      <th>Boat_Pose_or_Paripurna_Navasana_</th>\n",
       "      <td>391</td>\n",
       "    </tr>\n",
       "    <tr>\n",
       "      <th>Bound_Angle_Pose_or_Baddha_Konasana_</th>\n",
       "      <td>264</td>\n",
       "    </tr>\n",
       "    <tr>\n",
       "      <th>Bow_Pose_or_Dhanurasana_</th>\n",
       "      <td>225</td>\n",
       "    </tr>\n",
       "    <tr>\n",
       "      <th>...</th>\n",
       "      <td>...</td>\n",
       "    </tr>\n",
       "    <tr>\n",
       "      <th>Wide-Legged_Forward_Bend_pose_or_Prasarita_Padottanasana_</th>\n",
       "      <td>259</td>\n",
       "    </tr>\n",
       "    <tr>\n",
       "      <th>Wild_Thing_pose_or_Camatkarasana_</th>\n",
       "      <td>178</td>\n",
       "    </tr>\n",
       "    <tr>\n",
       "      <th>Wind_Relieving_pose_or_Pawanmuktasana</th>\n",
       "      <td>156</td>\n",
       "    </tr>\n",
       "    <tr>\n",
       "      <th>Yogic_sleep_pose</th>\n",
       "      <td>80</td>\n",
       "    </tr>\n",
       "    <tr>\n",
       "      <th>viparita_virabhadrasana_or_reverse_warrior_pose</th>\n",
       "      <td>143</td>\n",
       "    </tr>\n",
       "  </tbody>\n",
       "</table>\n",
       "<p>82 rows × 1 columns</p>\n",
       "</div>"
      ],
      "text/plain": [
       "                                                    valid\n",
       "class                                                    \n",
       "Akarna_Dhanurasana                                     86\n",
       "Bharadvaja's_Twist_pose_or_Bharadvajasana_I_           82\n",
       "Boat_Pose_or_Paripurna_Navasana_                      391\n",
       "Bound_Angle_Pose_or_Baddha_Konasana_                  264\n",
       "Bow_Pose_or_Dhanurasana_                              225\n",
       "...                                                   ...\n",
       "Wide-Legged_Forward_Bend_pose_or_Prasarita_Pado...    259\n",
       "Wild_Thing_pose_or_Camatkarasana_                     178\n",
       "Wind_Relieving_pose_or_Pawanmuktasana                 156\n",
       "Yogic_sleep_pose                                       80\n",
       "viparita_virabhadrasana_or_reverse_warrior_pose       143\n",
       "\n",
       "[82 rows x 1 columns]"
      ]
     },
     "execution_count": 17,
     "metadata": {},
     "output_type": "execute_result"
    }
   ],
   "source": [
    "# You can use this to check class balance\n",
    "\n",
    "df[df['valid'] == 1][['class', 'valid']].groupby('class').count()"
   ]
  },
  {
   "cell_type": "code",
   "execution_count": 18,
   "id": "6e47c0ea-db60-4e23-8bec-c0478120cbb2",
   "metadata": {},
   "outputs": [],
   "source": [
    "# Write frame to .csv\n",
    "\n",
    "df.to_csv(f'{image_root_path}/yoga-82_validated.csv')"
   ]
  },
  {
   "cell_type": "code",
   "execution_count": null,
   "id": "ae7363e4-ed72-4238-93ed-5adde749cedd",
   "metadata": {},
   "outputs": [],
   "source": []
  }
 ],
 "metadata": {
  "kernelspec": {
   "display_name": "Python 3 (ipykernel)",
   "language": "python",
   "name": "python3"
  },
  "language_info": {
   "codemirror_mode": {
    "name": "ipython",
    "version": 3
   },
   "file_extension": ".py",
   "mimetype": "text/x-python",
   "name": "python",
   "nbconvert_exporter": "python",
   "pygments_lexer": "ipython3",
   "version": "3.10.6"
  }
 },
 "nbformat": 4,
 "nbformat_minor": 5
}
